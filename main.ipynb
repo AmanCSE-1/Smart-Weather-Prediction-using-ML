{
  "nbformat": 4,
  "nbformat_minor": 0,
  "metadata": {
    "colab": {
      "name": "Untitled0.ipynb",
      "provenance": [],
      "toc_visible": true,
      "include_colab_link": true
    },
    "kernelspec": {
      "name": "python3",
      "display_name": "Python 3"
    },
    "language_info": {
      "name": "python"
    }
  },
  "cells": [
    {
      "cell_type": "markdown",
      "metadata": {
        "id": "view-in-github",
        "colab_type": "text"
      },
      "source": [
        "<a href=\"https://colab.research.google.com/github/AmanCSE-1/Smart-Weather-Prediction-using-ML/blob/main/main.ipynb\" target=\"_parent\"><img src=\"https://colab.research.google.com/assets/colab-badge.svg\" alt=\"Open In Colab\"/></a>"
      ]
    },
    {
      "cell_type": "markdown",
      "metadata": {
        "id": "ld4OVVrw51cN"
      },
      "source": [
        "<em><b>Objective :</b> Weather forecasting is simply the prediction of future weather based on different parameters of the past like temperature, humidity, dew, wind speed and direction, precipitation, Haze and contents of air, Solar and terrestrial radiation etc. Weather forecast is an essential factor affecting people’s lives. Weather forecast notices are important because they can be used to prevent destruction of life and environment.</em>"
      ]
    },
    {
      "cell_type": "markdown",
      "metadata": {
        "id": "-a_2U0egrJQN"
      },
      "source": [
        "# **Importing Libraries and Loading Dataset**"
      ]
    },
    {
      "cell_type": "code",
      "metadata": {
        "id": "YoxBFSVXK1So"
      },
      "source": [
        "# Importing the fundamental libraries of data science\n",
        "\n",
        "import pandas as pd                       # For Data Analysis and Preprocessing \n",
        "import numpy as np                        # For mathematical operations on data \n",
        "import matplotlib.pyplot as plt           # For Visualization and setting graph elements\n",
        "import seaborn as sns                     # Consists of easy and interactive statistical graphics "
      ],
      "execution_count": 1,
      "outputs": []
    },
    {
      "cell_type": "code",
      "metadata": {
        "colab": {
          "base_uri": "https://localhost:8080/",
          "height": 0
        },
        "id": "JBhT8yFuVsUH",
        "outputId": "e768985e-05fe-4e9a-d3f3-a19d174062b4"
      },
      "source": [
        "url = \"https://raw.githubusercontent.com/AmanCSE-1/Smart-Weather-Prediction-using-ML/main/India%20Weather%20History.csv\"\n",
        "df = pd.read_csv(url)                     # Reading the dataset\n",
        "\n",
        "df.head()                                 # Printing the first 5 rows of the dataset"
      ],
      "execution_count": 2,
      "outputs": [
        {
          "output_type": "execute_result",
          "data": {
            "text/html": [
              "<div>\n",
              "<style scoped>\n",
              "    .dataframe tbody tr th:only-of-type {\n",
              "        vertical-align: middle;\n",
              "    }\n",
              "\n",
              "    .dataframe tbody tr th {\n",
              "        vertical-align: top;\n",
              "    }\n",
              "\n",
              "    .dataframe thead th {\n",
              "        text-align: right;\n",
              "    }\n",
              "</style>\n",
              "<table border=\"1\" class=\"dataframe\">\n",
              "  <thead>\n",
              "    <tr style=\"text-align: right;\">\n",
              "      <th></th>\n",
              "      <th>Formatted Date</th>\n",
              "      <th>Summary</th>\n",
              "      <th>Precip Type</th>\n",
              "      <th>Temperature (C)</th>\n",
              "      <th>Apparent Temperature (C)</th>\n",
              "      <th>Humidity</th>\n",
              "      <th>Wind Speed (km/h)</th>\n",
              "      <th>Wind Bearing (degrees)</th>\n",
              "      <th>Visibility (km)</th>\n",
              "      <th>Loud Cover</th>\n",
              "      <th>Pressure (millibars)</th>\n",
              "      <th>Daily Summary</th>\n",
              "    </tr>\n",
              "  </thead>\n",
              "  <tbody>\n",
              "    <tr>\n",
              "      <th>0</th>\n",
              "      <td>2006-04-01 00:00:00.000 +0200</td>\n",
              "      <td>Partly Cloudy</td>\n",
              "      <td>rain</td>\n",
              "      <td>9.472222</td>\n",
              "      <td>7.388889</td>\n",
              "      <td>0.89</td>\n",
              "      <td>14.1197</td>\n",
              "      <td>251.0</td>\n",
              "      <td>15.8263</td>\n",
              "      <td>0.0</td>\n",
              "      <td>1015.13</td>\n",
              "      <td>Partly cloudy throughout the day.</td>\n",
              "    </tr>\n",
              "    <tr>\n",
              "      <th>1</th>\n",
              "      <td>2006-04-01 01:00:00.000 +0200</td>\n",
              "      <td>Partly Cloudy</td>\n",
              "      <td>rain</td>\n",
              "      <td>9.355556</td>\n",
              "      <td>7.227778</td>\n",
              "      <td>0.86</td>\n",
              "      <td>14.2646</td>\n",
              "      <td>259.0</td>\n",
              "      <td>15.8263</td>\n",
              "      <td>0.0</td>\n",
              "      <td>1015.63</td>\n",
              "      <td>Partly cloudy throughout the day.</td>\n",
              "    </tr>\n",
              "    <tr>\n",
              "      <th>2</th>\n",
              "      <td>2006-04-01 02:00:00.000 +0200</td>\n",
              "      <td>Mostly Cloudy</td>\n",
              "      <td>rain</td>\n",
              "      <td>9.377778</td>\n",
              "      <td>9.377778</td>\n",
              "      <td>0.89</td>\n",
              "      <td>3.9284</td>\n",
              "      <td>204.0</td>\n",
              "      <td>14.9569</td>\n",
              "      <td>0.0</td>\n",
              "      <td>1015.94</td>\n",
              "      <td>Partly cloudy throughout the day.</td>\n",
              "    </tr>\n",
              "    <tr>\n",
              "      <th>3</th>\n",
              "      <td>2006-04-01 03:00:00.000 +0200</td>\n",
              "      <td>Partly Cloudy</td>\n",
              "      <td>rain</td>\n",
              "      <td>8.288889</td>\n",
              "      <td>5.944444</td>\n",
              "      <td>0.83</td>\n",
              "      <td>14.1036</td>\n",
              "      <td>269.0</td>\n",
              "      <td>15.8263</td>\n",
              "      <td>0.0</td>\n",
              "      <td>1016.41</td>\n",
              "      <td>Partly cloudy throughout the day.</td>\n",
              "    </tr>\n",
              "    <tr>\n",
              "      <th>4</th>\n",
              "      <td>2006-04-01 04:00:00.000 +0200</td>\n",
              "      <td>Mostly Cloudy</td>\n",
              "      <td>rain</td>\n",
              "      <td>8.755556</td>\n",
              "      <td>6.977778</td>\n",
              "      <td>0.83</td>\n",
              "      <td>11.0446</td>\n",
              "      <td>259.0</td>\n",
              "      <td>15.8263</td>\n",
              "      <td>0.0</td>\n",
              "      <td>1016.51</td>\n",
              "      <td>Partly cloudy throughout the day.</td>\n",
              "    </tr>\n",
              "  </tbody>\n",
              "</table>\n",
              "</div>"
            ],
            "text/plain": [
              "                  Formatted Date  ...                      Daily Summary\n",
              "0  2006-04-01 00:00:00.000 +0200  ...  Partly cloudy throughout the day.\n",
              "1  2006-04-01 01:00:00.000 +0200  ...  Partly cloudy throughout the day.\n",
              "2  2006-04-01 02:00:00.000 +0200  ...  Partly cloudy throughout the day.\n",
              "3  2006-04-01 03:00:00.000 +0200  ...  Partly cloudy throughout the day.\n",
              "4  2006-04-01 04:00:00.000 +0200  ...  Partly cloudy throughout the day.\n",
              "\n",
              "[5 rows x 12 columns]"
            ]
          },
          "metadata": {},
          "execution_count": 2
        }
      ]
    },
    {
      "cell_type": "code",
      "metadata": {
        "colab": {
          "base_uri": "https://localhost:8080/"
        },
        "id": "3cK9hePDVxoG",
        "outputId": "e7586efa-e332-4c1f-c731-90077fc11808"
      },
      "source": [
        "df.shape                          # Returns the number of rows and number of columns of dataset"
      ],
      "execution_count": 3,
      "outputs": [
        {
          "output_type": "execute_result",
          "data": {
            "text/plain": [
              "(96453, 12)"
            ]
          },
          "metadata": {},
          "execution_count": 3
        }
      ]
    },
    {
      "cell_type": "code",
      "metadata": {
        "colab": {
          "base_uri": "https://localhost:8080/"
        },
        "id": "WYUcEqSBWgCV",
        "outputId": "b9bd110f-7ebb-46b7-8bed-1c561fbfa52b"
      },
      "source": [
        "df.columns                        # Returns the name of columns of dataset"
      ],
      "execution_count": 4,
      "outputs": [
        {
          "output_type": "execute_result",
          "data": {
            "text/plain": [
              "Index(['Formatted Date', 'Summary', 'Precip Type', 'Temperature (C)',\n",
              "       'Apparent Temperature (C)', 'Humidity', 'Wind Speed (km/h)',\n",
              "       'Wind Bearing (degrees)', 'Visibility (km)', 'Loud Cover',\n",
              "       'Pressure (millibars)', 'Daily Summary'],\n",
              "      dtype='object')"
            ]
          },
          "metadata": {},
          "execution_count": 4
        }
      ]
    },
    {
      "cell_type": "markdown",
      "metadata": {
        "id": "Y8XdZ8xhq__T"
      },
      "source": [
        "# **Exploratory Data Analysis**"
      ]
    },
    {
      "cell_type": "code",
      "metadata": {
        "colab": {
          "base_uri": "https://localhost:8080/"
        },
        "id": "S5GPaNwMq-rx",
        "outputId": "edc3608c-cd9d-4d5c-f58c-ebae648b617b"
      },
      "source": [
        "df.info()           # to get a consice summary of the dataframe"
      ],
      "execution_count": 5,
      "outputs": [
        {
          "output_type": "stream",
          "name": "stdout",
          "text": [
            "<class 'pandas.core.frame.DataFrame'>\n",
            "RangeIndex: 96453 entries, 0 to 96452\n",
            "Data columns (total 12 columns):\n",
            " #   Column                    Non-Null Count  Dtype  \n",
            "---  ------                    --------------  -----  \n",
            " 0   Formatted Date            96453 non-null  object \n",
            " 1   Summary                   96453 non-null  object \n",
            " 2   Precip Type               95936 non-null  object \n",
            " 3   Temperature (C)           96453 non-null  float64\n",
            " 4   Apparent Temperature (C)  96453 non-null  float64\n",
            " 5   Humidity                  96453 non-null  float64\n",
            " 6   Wind Speed (km/h)         96453 non-null  float64\n",
            " 7   Wind Bearing (degrees)    96453 non-null  float64\n",
            " 8   Visibility (km)           96453 non-null  float64\n",
            " 9   Loud Cover                96453 non-null  float64\n",
            " 10  Pressure (millibars)      96453 non-null  float64\n",
            " 11  Daily Summary             96453 non-null  object \n",
            "dtypes: float64(8), object(4)\n",
            "memory usage: 8.8+ MB\n"
          ]
        }
      ]
    },
    {
      "cell_type": "markdown",
      "metadata": {
        "id": "ClRw8p9pEH0l"
      },
      "source": [
        "We observe that 'Formatted Date' column has datatype 'Object'. This doesn't helps us, as python has not recognised it as datetime type. \n",
        "So, we will change the datatype of 'Formatted Date' column."
      ]
    },
    {
      "cell_type": "code",
      "metadata": {
        "colab": {
          "base_uri": "https://localhost:8080/"
        },
        "id": "-f90TPBhCHwA",
        "outputId": "4a21f625-a599-4997-c472-df3d47b82f65"
      },
      "source": [
        "# Converts arguement to datetime \n",
        "df['Formatted Date'] = pd.to_datetime(df['Formatted Date'], utc=True)\n",
        "\n",
        "# Checking the datatype of the column by using dtype attribute\n",
        "df['Formatted Date'].dtype"
      ],
      "execution_count": 6,
      "outputs": [
        {
          "output_type": "execute_result",
          "data": {
            "text/plain": [
              "datetime64[ns, UTC]"
            ]
          },
          "metadata": {},
          "execution_count": 6
        }
      ]
    },
    {
      "cell_type": "code",
      "metadata": {
        "id": "bE8LY4RhQCif"
      },
      "source": [
        "import datetime as dt\n",
        "\n",
        "# Extracting Date (yyyy-mm-dd) from 'Formatted Date' column\n",
        "df['Date'] = df['Formatted Date'].dt.date\n",
        "df['Date'] = pd.to_datetime(df['Date'])\n",
        "\n",
        "# Extracting Time (hh) from 'Formatted Date' column (Note: We are only extracting hour because all observations have {mm-ss} as {00-00})\n",
        "df['Time'] = df['Formatted Date'].dt.hour\n",
        "\n",
        "df.drop(columns='Formatted Date', inplace=True)                 # Now, we drop the Formatted Date column"
      ],
      "execution_count": 7,
      "outputs": []
    },
    {
      "cell_type": "code",
      "metadata": {
        "id": "I85JozjtT-rr"
      },
      "source": [
        "# We want to place the recently created columns-'Date' and 'Time' as first two columns in our DataFrame\n",
        "# So, first we pop them out and insert them into 0th and 1th position respectively\n",
        "\n",
        "first_column = df.pop('Date')\n",
        "second_column = df.pop('Time')\n",
        "\n",
        "df.insert(0, 'Date', first_column)\n",
        "df.insert(1, 'Time', second_column)"
      ],
      "execution_count": 8,
      "outputs": []
    },
    {
      "cell_type": "code",
      "metadata": {
        "colab": {
          "base_uri": "https://localhost:8080/",
          "height": 0
        },
        "id": "Q6E9fhcYQwi3",
        "outputId": "e6490e54-c20e-4652-e77b-c6d0b7e82fce"
      },
      "source": [
        "df.head()"
      ],
      "execution_count": 9,
      "outputs": [
        {
          "output_type": "execute_result",
          "data": {
            "text/html": [
              "<div>\n",
              "<style scoped>\n",
              "    .dataframe tbody tr th:only-of-type {\n",
              "        vertical-align: middle;\n",
              "    }\n",
              "\n",
              "    .dataframe tbody tr th {\n",
              "        vertical-align: top;\n",
              "    }\n",
              "\n",
              "    .dataframe thead th {\n",
              "        text-align: right;\n",
              "    }\n",
              "</style>\n",
              "<table border=\"1\" class=\"dataframe\">\n",
              "  <thead>\n",
              "    <tr style=\"text-align: right;\">\n",
              "      <th></th>\n",
              "      <th>Date</th>\n",
              "      <th>Time</th>\n",
              "      <th>Summary</th>\n",
              "      <th>Precip Type</th>\n",
              "      <th>Temperature (C)</th>\n",
              "      <th>Apparent Temperature (C)</th>\n",
              "      <th>Humidity</th>\n",
              "      <th>Wind Speed (km/h)</th>\n",
              "      <th>Wind Bearing (degrees)</th>\n",
              "      <th>Visibility (km)</th>\n",
              "      <th>Loud Cover</th>\n",
              "      <th>Pressure (millibars)</th>\n",
              "      <th>Daily Summary</th>\n",
              "    </tr>\n",
              "  </thead>\n",
              "  <tbody>\n",
              "    <tr>\n",
              "      <th>0</th>\n",
              "      <td>2006-03-31</td>\n",
              "      <td>22</td>\n",
              "      <td>Partly Cloudy</td>\n",
              "      <td>rain</td>\n",
              "      <td>9.472222</td>\n",
              "      <td>7.388889</td>\n",
              "      <td>0.89</td>\n",
              "      <td>14.1197</td>\n",
              "      <td>251.0</td>\n",
              "      <td>15.8263</td>\n",
              "      <td>0.0</td>\n",
              "      <td>1015.13</td>\n",
              "      <td>Partly cloudy throughout the day.</td>\n",
              "    </tr>\n",
              "    <tr>\n",
              "      <th>1</th>\n",
              "      <td>2006-03-31</td>\n",
              "      <td>23</td>\n",
              "      <td>Partly Cloudy</td>\n",
              "      <td>rain</td>\n",
              "      <td>9.355556</td>\n",
              "      <td>7.227778</td>\n",
              "      <td>0.86</td>\n",
              "      <td>14.2646</td>\n",
              "      <td>259.0</td>\n",
              "      <td>15.8263</td>\n",
              "      <td>0.0</td>\n",
              "      <td>1015.63</td>\n",
              "      <td>Partly cloudy throughout the day.</td>\n",
              "    </tr>\n",
              "    <tr>\n",
              "      <th>2</th>\n",
              "      <td>2006-04-01</td>\n",
              "      <td>0</td>\n",
              "      <td>Mostly Cloudy</td>\n",
              "      <td>rain</td>\n",
              "      <td>9.377778</td>\n",
              "      <td>9.377778</td>\n",
              "      <td>0.89</td>\n",
              "      <td>3.9284</td>\n",
              "      <td>204.0</td>\n",
              "      <td>14.9569</td>\n",
              "      <td>0.0</td>\n",
              "      <td>1015.94</td>\n",
              "      <td>Partly cloudy throughout the day.</td>\n",
              "    </tr>\n",
              "    <tr>\n",
              "      <th>3</th>\n",
              "      <td>2006-04-01</td>\n",
              "      <td>1</td>\n",
              "      <td>Partly Cloudy</td>\n",
              "      <td>rain</td>\n",
              "      <td>8.288889</td>\n",
              "      <td>5.944444</td>\n",
              "      <td>0.83</td>\n",
              "      <td>14.1036</td>\n",
              "      <td>269.0</td>\n",
              "      <td>15.8263</td>\n",
              "      <td>0.0</td>\n",
              "      <td>1016.41</td>\n",
              "      <td>Partly cloudy throughout the day.</td>\n",
              "    </tr>\n",
              "    <tr>\n",
              "      <th>4</th>\n",
              "      <td>2006-04-01</td>\n",
              "      <td>2</td>\n",
              "      <td>Mostly Cloudy</td>\n",
              "      <td>rain</td>\n",
              "      <td>8.755556</td>\n",
              "      <td>6.977778</td>\n",
              "      <td>0.83</td>\n",
              "      <td>11.0446</td>\n",
              "      <td>259.0</td>\n",
              "      <td>15.8263</td>\n",
              "      <td>0.0</td>\n",
              "      <td>1016.51</td>\n",
              "      <td>Partly cloudy throughout the day.</td>\n",
              "    </tr>\n",
              "  </tbody>\n",
              "</table>\n",
              "</div>"
            ],
            "text/plain": [
              "        Date  Time  ... Pressure (millibars)                      Daily Summary\n",
              "0 2006-03-31    22  ...              1015.13  Partly cloudy throughout the day.\n",
              "1 2006-03-31    23  ...              1015.63  Partly cloudy throughout the day.\n",
              "2 2006-04-01     0  ...              1015.94  Partly cloudy throughout the day.\n",
              "3 2006-04-01     1  ...              1016.41  Partly cloudy throughout the day.\n",
              "4 2006-04-01     2  ...              1016.51  Partly cloudy throughout the day.\n",
              "\n",
              "[5 rows x 13 columns]"
            ]
          },
          "metadata": {},
          "execution_count": 9
        }
      ]
    },
    {
      "cell_type": "code",
      "metadata": {
        "colab": {
          "base_uri": "https://localhost:8080/",
          "height": 0
        },
        "id": "-gCkfckgrZ5K",
        "outputId": "b42db6e6-4863-4a79-b177-7aeb079994fe"
      },
      "source": [
        "df.describe()         # Used to describe various statistical measures for quantitative columns\n",
        "                      # Mean, Median(Q2) describes the characteristic of distribution of column\n",
        "                      # 25% (Q1),  50% (Q2) and 75 (Q3) are Quartiles of the features.\n",
        "                      # std is Standard Deviation i.e. depicts spread  of the distribution\n",
        "                      # min and max are known to everybody :)"
      ],
      "execution_count": 10,
      "outputs": [
        {
          "output_type": "execute_result",
          "data": {
            "text/html": [
              "<div>\n",
              "<style scoped>\n",
              "    .dataframe tbody tr th:only-of-type {\n",
              "        vertical-align: middle;\n",
              "    }\n",
              "\n",
              "    .dataframe tbody tr th {\n",
              "        vertical-align: top;\n",
              "    }\n",
              "\n",
              "    .dataframe thead th {\n",
              "        text-align: right;\n",
              "    }\n",
              "</style>\n",
              "<table border=\"1\" class=\"dataframe\">\n",
              "  <thead>\n",
              "    <tr style=\"text-align: right;\">\n",
              "      <th></th>\n",
              "      <th>Time</th>\n",
              "      <th>Temperature (C)</th>\n",
              "      <th>Apparent Temperature (C)</th>\n",
              "      <th>Humidity</th>\n",
              "      <th>Wind Speed (km/h)</th>\n",
              "      <th>Wind Bearing (degrees)</th>\n",
              "      <th>Visibility (km)</th>\n",
              "      <th>Loud Cover</th>\n",
              "      <th>Pressure (millibars)</th>\n",
              "    </tr>\n",
              "  </thead>\n",
              "  <tbody>\n",
              "    <tr>\n",
              "      <th>count</th>\n",
              "      <td>96453.000000</td>\n",
              "      <td>96453.000000</td>\n",
              "      <td>96453.000000</td>\n",
              "      <td>96453.000000</td>\n",
              "      <td>96453.000000</td>\n",
              "      <td>96453.000000</td>\n",
              "      <td>96453.000000</td>\n",
              "      <td>96453.0</td>\n",
              "      <td>96453.000000</td>\n",
              "    </tr>\n",
              "    <tr>\n",
              "      <th>mean</th>\n",
              "      <td>11.499891</td>\n",
              "      <td>11.932678</td>\n",
              "      <td>10.855029</td>\n",
              "      <td>0.734899</td>\n",
              "      <td>10.810640</td>\n",
              "      <td>187.509232</td>\n",
              "      <td>10.347325</td>\n",
              "      <td>0.0</td>\n",
              "      <td>1003.235956</td>\n",
              "    </tr>\n",
              "    <tr>\n",
              "      <th>std</th>\n",
              "      <td>6.922049</td>\n",
              "      <td>9.551546</td>\n",
              "      <td>10.696847</td>\n",
              "      <td>0.195473</td>\n",
              "      <td>6.913571</td>\n",
              "      <td>107.383428</td>\n",
              "      <td>4.192123</td>\n",
              "      <td>0.0</td>\n",
              "      <td>116.969906</td>\n",
              "    </tr>\n",
              "    <tr>\n",
              "      <th>min</th>\n",
              "      <td>0.000000</td>\n",
              "      <td>-21.822222</td>\n",
              "      <td>-27.716667</td>\n",
              "      <td>0.000000</td>\n",
              "      <td>0.000000</td>\n",
              "      <td>0.000000</td>\n",
              "      <td>0.000000</td>\n",
              "      <td>0.0</td>\n",
              "      <td>0.000000</td>\n",
              "    </tr>\n",
              "    <tr>\n",
              "      <th>25%</th>\n",
              "      <td>6.000000</td>\n",
              "      <td>4.688889</td>\n",
              "      <td>2.311111</td>\n",
              "      <td>0.600000</td>\n",
              "      <td>5.828200</td>\n",
              "      <td>116.000000</td>\n",
              "      <td>8.339800</td>\n",
              "      <td>0.0</td>\n",
              "      <td>1011.900000</td>\n",
              "    </tr>\n",
              "    <tr>\n",
              "      <th>50%</th>\n",
              "      <td>11.000000</td>\n",
              "      <td>12.000000</td>\n",
              "      <td>12.000000</td>\n",
              "      <td>0.780000</td>\n",
              "      <td>9.965900</td>\n",
              "      <td>180.000000</td>\n",
              "      <td>10.046400</td>\n",
              "      <td>0.0</td>\n",
              "      <td>1016.450000</td>\n",
              "    </tr>\n",
              "    <tr>\n",
              "      <th>75%</th>\n",
              "      <td>17.000000</td>\n",
              "      <td>18.838889</td>\n",
              "      <td>18.838889</td>\n",
              "      <td>0.890000</td>\n",
              "      <td>14.135800</td>\n",
              "      <td>290.000000</td>\n",
              "      <td>14.812000</td>\n",
              "      <td>0.0</td>\n",
              "      <td>1021.090000</td>\n",
              "    </tr>\n",
              "    <tr>\n",
              "      <th>max</th>\n",
              "      <td>23.000000</td>\n",
              "      <td>39.905556</td>\n",
              "      <td>39.344444</td>\n",
              "      <td>1.000000</td>\n",
              "      <td>63.852600</td>\n",
              "      <td>359.000000</td>\n",
              "      <td>16.100000</td>\n",
              "      <td>0.0</td>\n",
              "      <td>1046.380000</td>\n",
              "    </tr>\n",
              "  </tbody>\n",
              "</table>\n",
              "</div>"
            ],
            "text/plain": [
              "               Time  Temperature (C)  ...  Loud Cover  Pressure (millibars)\n",
              "count  96453.000000     96453.000000  ...     96453.0          96453.000000\n",
              "mean      11.499891        11.932678  ...         0.0           1003.235956\n",
              "std        6.922049         9.551546  ...         0.0            116.969906\n",
              "min        0.000000       -21.822222  ...         0.0              0.000000\n",
              "25%        6.000000         4.688889  ...         0.0           1011.900000\n",
              "50%       11.000000        12.000000  ...         0.0           1016.450000\n",
              "75%       17.000000        18.838889  ...         0.0           1021.090000\n",
              "max       23.000000        39.905556  ...         0.0           1046.380000\n",
              "\n",
              "[8 rows x 9 columns]"
            ]
          },
          "metadata": {},
          "execution_count": 10
        }
      ]
    },
    {
      "cell_type": "code",
      "metadata": {
        "colab": {
          "base_uri": "https://localhost:8080/"
        },
        "id": "t949Uc8_rbpg",
        "outputId": "1dabe732-a186-4389-f7d1-bfb2f4b1a2c4"
      },
      "source": [
        "df.isna().sum()             # Returns the sum of rows that contains null values for each column"
      ],
      "execution_count": 11,
      "outputs": [
        {
          "output_type": "execute_result",
          "data": {
            "text/plain": [
              "Date                          0\n",
              "Time                          0\n",
              "Summary                       0\n",
              "Precip Type                 517\n",
              "Temperature (C)               0\n",
              "Apparent Temperature (C)      0\n",
              "Humidity                      0\n",
              "Wind Speed (km/h)             0\n",
              "Wind Bearing (degrees)        0\n",
              "Visibility (km)               0\n",
              "Loud Cover                    0\n",
              "Pressure (millibars)          0\n",
              "Daily Summary                 0\n",
              "dtype: int64"
            ]
          },
          "metadata": {},
          "execution_count": 11
        }
      ]
    },
    {
      "cell_type": "code",
      "metadata": {
        "id": "yQzTDMVCq-xu"
      },
      "source": [
        "# Dropping the 'Loud Cover' Column as it contains all rows with value '0'.\n",
        "# It will not add any value to the model\n",
        "\n",
        "df.drop('Loud Cover', axis=1, inplace=True)"
      ],
      "execution_count": 12,
      "outputs": []
    },
    {
      "cell_type": "markdown",
      "metadata": {
        "id": "TVTqWptx8RnJ"
      },
      "source": [
        "We will predict Summary, Temperature and Precip Type features for our project.\n",
        "\n",
        "*   Summary is Categorical variable; so it would require classification algorithms.\n",
        "*   Temperature is a quantitative variable; hence we would use multiple regression.\n",
        "*   Precip Type is also a categorical variable; so we will use classification algorithm\n",
        "\n",
        "\n",
        "\n",
        "\n",
        "\n",
        "\n",
        "\n"
      ]
    },
    {
      "cell_type": "markdown",
      "metadata": {
        "id": "CCZUtMewR4QZ"
      },
      "source": [
        "**EDA on Temperature Feature**"
      ]
    },
    {
      "cell_type": "code",
      "metadata": {
        "id": "F_DP6e9XRDx5"
      },
      "source": [
        "month = df['Date'].dt.month\n",
        "\n",
        "monthly_avg = df.groupby(month)['Temperature (C)'].mean()"
      ],
      "execution_count": 13,
      "outputs": []
    },
    {
      "cell_type": "code",
      "metadata": {
        "id": "WagwuqlQRMJY"
      },
      "source": [
        "year = df['Date'].dt.year\n",
        "\n",
        "annual_avg = df.groupby(year)['Temperature (C)'].mean()"
      ],
      "execution_count": 14,
      "outputs": []
    },
    {
      "cell_type": "code",
      "metadata": {
        "colab": {
          "base_uri": "https://localhost:8080/",
          "height": 0
        },
        "id": "pu4XxL6jRufB",
        "outputId": "1c5df3eb-a482-4255-c112-9d11a908e898"
      },
      "source": [
        "plt.subplots_adjust(left=0, right=2, bottom=0, top=1, wspace=0.3, hspace=0.1)\n",
        "\n",
        "plt.subplot(1, 2, 1)\n",
        "month_abb = ['Jan', 'Feb', 'Mar', 'Apr', 'May', 'Jun', 'Jul', 'Aug', 'Sep', 'Oct', 'Nov', 'Dec']\n",
        "sns.lineplot(x=month_abb, y=monthly_avg.values, color='blue', linestyle=\"-\")\n",
        "plt.xlabel('Months')\n",
        "plt.ylabel(\"Average Temperature in \\N{DEGREE SIGN}C\")\n",
        "plt.title('Variation of Mean Monthly Temperature')\n",
        "\n",
        "plt.subplot(1, 2, 2)\n",
        "sns.lineplot(x=annual_avg.index, y=annual_avg.values, color='orange', linestyle=\"solid\")\n",
        "plt.xlim([2006, 2016])\n",
        "plt.xlabel('Year')\n",
        "plt.ylabel(\"Average Temperature in \\N{DEGREE SIGN}C\")\n",
        "plt.title('Variation of Mean Annual Temperature')\n",
        "\n",
        "plt.show()"
      ],
      "execution_count": 15,
      "outputs": [
        {
          "output_type": "display_data",
          "data": {
            "image/png": "[encoded data removed]",
            "text/plain": [
              "<Figure size 432x288 with 2 Axes>"
            ]
          },
          "metadata": {
            "needs_background": "light"
          }
        }
      ]
    },
    {
      "cell_type": "code",
      "metadata": {
        "colab": {
          "base_uri": "https://localhost:8080/",
          "height": 0
        },
        "id": "ciesFXFYF_Jt",
        "outputId": "a06e71dc-c406-42e5-cf1b-bb47871ee37a"
      },
      "source": [
        "# To visualize the relation the relation between two columns, we will plot scatterplot\n",
        "# Here, our predictor variable for Linear Regression model is Temperature\n",
        "\n",
        "# used to adjust the subplot size and spacing between them\n",
        "plt.subplots_adjust(left=0, right=2, bottom=0, top=1, wspace=0.3, hspace=0.1)\n",
        "\n",
        "# First subplot - Relation between Temperature and Humidity\n",
        "plt.subplot(1,2,1)\n",
        "plt.title('Relation between Temperature and Humidity')\n",
        "sns.scatterplot(data=df.sample(1000, random_state=1), x='Temperature (C)', y='Humidity')\n",
        "\n",
        "# Second subplot - Relation between Temperature and Apparent Temperature\n",
        "plt.subplot(1,2,2)\n",
        "plt.title('Relation between Temperature and Apparent Temperature')\n",
        "sns.scatterplot(data=df.sample(1000, random_state=1), x='Temperature (C)', y='Apparent Temperature (C)')\n",
        "\n",
        "plt.show()"
      ],
      "execution_count": 16,
      "outputs": [
        {
          "output_type": "display_data",
          "data": {
            "image/png": "[encoded data removed]",
            "text/plain": [
              "<Figure size 432x288 with 2 Axes>"
            ]
          },
          "metadata": {
            "needs_background": "light"
          }
        }
      ]
    },
    {
      "cell_type": "code",
      "metadata": {
        "colab": {
          "base_uri": "https://localhost:8080/"
        },
        "id": "qLniUBYi6yKS",
        "outputId": "715ca621-c78c-43ed-da71-64161580e39e"
      },
      "source": [
        "# To begin with, we will check the number of different categories in Summary feature\n",
        "\n",
        "df['Summary'].nunique()"
      ],
      "execution_count": 17,
      "outputs": [
        {
          "output_type": "execute_result",
          "data": {
            "text/plain": [
              "27"
            ]
          },
          "metadata": {},
          "execution_count": 17
        }
      ]
    },
    {
      "cell_type": "code",
      "metadata": {
        "colab": {
          "base_uri": "https://localhost:8080/"
        },
        "id": "DjSTB3q461lZ",
        "outputId": "47666a4c-aedf-4428-ece2-625cf8955e40"
      },
      "source": [
        "#  Since, we get 27 categories, lets first check the occurence of each of the categories; \n",
        "#  to if there are categories who have least occurence (they may be outliers/noise) '''\n",
        "\n",
        "df['Summary'].value_counts()"
      ],
      "execution_count": 18,
      "outputs": [
        {
          "output_type": "execute_result",
          "data": {
            "text/plain": [
              "Partly Cloudy                          31733\n",
              "Mostly Cloudy                          28094\n",
              "Overcast                               16597\n",
              "Clear                                  10890\n",
              "Foggy                                   7148\n",
              "Breezy and Overcast                      528\n",
              "Breezy and Mostly Cloudy                 516\n",
              "Breezy and Partly Cloudy                 386\n",
              "Dry and Partly Cloudy                     86\n",
              "Windy and Partly Cloudy                   67\n",
              "Light Rain                                63\n",
              "Breezy                                    54\n",
              "Windy and Overcast                        45\n",
              "Humid and Mostly Cloudy                   40\n",
              "Drizzle                                   39\n",
              "Breezy and Foggy                          35\n",
              "Windy and Mostly Cloudy                   35\n",
              "Dry                                       34\n",
              "Humid and Partly Cloudy                   17\n",
              "Dry and Mostly Cloudy                     14\n",
              "Rain                                      10\n",
              "Windy                                      8\n",
              "Humid and Overcast                         7\n",
              "Windy and Foggy                            4\n",
              "Windy and Dry                              1\n",
              "Breezy and Dry                             1\n",
              "Dangerously Windy and Partly Cloudy        1\n",
              "Name: Summary, dtype: int64"
            ]
          },
          "metadata": {},
          "execution_count": 18
        }
      ]
    },
    {
      "cell_type": "code",
      "metadata": {
        "colab": {
          "base_uri": "https://localhost:8080/"
        },
        "id": "iSupOf7y64rT",
        "outputId": "0326a6fb-7257-45ac-f97f-cb9b39d9154c"
      },
      "source": [
        "df['Precip Type'].nunique()"
      ],
      "execution_count": 19,
      "outputs": [
        {
          "output_type": "execute_result",
          "data": {
            "text/plain": [
              "2"
            ]
          },
          "metadata": {},
          "execution_count": 19
        }
      ]
    },
    {
      "cell_type": "code",
      "metadata": {
        "colab": {
          "base_uri": "https://localhost:8080/",
          "height": 0
        },
        "id": "KoxGtO346_QF",
        "outputId": "dd342337-4ac9-46b9-f215-232c647c0fc0"
      },
      "source": [
        "plt.figure(figsize=(8,6))\n",
        "precip = sns.countplot(x=df['Precip Type'])\n",
        "plt.title('Graph of occurence of values of Precip Type')\n",
        "\n",
        "for p in precip.patches:\n",
        "  txt = str(round(p.get_height()/df.shape[0]*100, 2)) + '%'\n",
        "  txt_x = p.get_x() + p.get_width()/2 -0.07\n",
        "  txt_y = p.get_height()+400\n",
        "  precip.text(txt_x, txt_y, txt, size=12)\n",
        "\n",
        "plt.show()"
      ],
      "execution_count": 20,
      "outputs": [
        {
          "output_type": "display_data",
          "data": {
            "image/png": "[encoded data removed]",
            "text/plain": [
              "<Figure size 576x432 with 1 Axes>"
            ]
          },
          "metadata": {
            "needs_background": "light"
          }
        }
      ]
    },
    {
      "cell_type": "code",
      "metadata": {
        "colab": {
          "base_uri": "https://localhost:8080/",
          "height": 0
        },
        "id": "2X8vRONSCe5O",
        "outputId": "7f174c0e-6d8f-4c31-b759-91e3a60b2943"
      },
      "source": [
        "df.groupby('Precip Type').mean()"
      ],
      "execution_count": 21,
      "outputs": [
        {
          "output_type": "execute_result",
          "data": {
            "text/html": [
              "<div>\n",
              "<style scoped>\n",
              "    .dataframe tbody tr th:only-of-type {\n",
              "        vertical-align: middle;\n",
              "    }\n",
              "\n",
              "    .dataframe tbody tr th {\n",
              "        vertical-align: top;\n",
              "    }\n",
              "\n",
              "    .dataframe thead th {\n",
              "        text-align: right;\n",
              "    }\n",
              "</style>\n",
              "<table border=\"1\" class=\"dataframe\">\n",
              "  <thead>\n",
              "    <tr style=\"text-align: right;\">\n",
              "      <th></th>\n",
              "      <th>Time</th>\n",
              "      <th>Temperature (C)</th>\n",
              "      <th>Apparent Temperature (C)</th>\n",
              "      <th>Humidity</th>\n",
              "      <th>Wind Speed (km/h)</th>\n",
              "      <th>Wind Bearing (degrees)</th>\n",
              "      <th>Visibility (km)</th>\n",
              "      <th>Pressure (millibars)</th>\n",
              "    </tr>\n",
              "    <tr>\n",
              "      <th>Precip Type</th>\n",
              "      <th></th>\n",
              "      <th></th>\n",
              "      <th></th>\n",
              "      <th></th>\n",
              "      <th></th>\n",
              "      <th></th>\n",
              "      <th></th>\n",
              "      <th></th>\n",
              "    </tr>\n",
              "  </thead>\n",
              "  <tbody>\n",
              "    <tr>\n",
              "      <th>rain</th>\n",
              "      <td>11.623651</td>\n",
              "      <td>13.852989</td>\n",
              "      <td>13.013425</td>\n",
              "      <td>0.718699</td>\n",
              "      <td>10.971219</td>\n",
              "      <td>189.123170</td>\n",
              "      <td>10.830711</td>\n",
              "      <td>1002.764548</td>\n",
              "    </tr>\n",
              "    <tr>\n",
              "      <th>snow</th>\n",
              "      <td>10.497573</td>\n",
              "      <td>-3.270885</td>\n",
              "      <td>-6.249847</td>\n",
              "      <td>0.863263</td>\n",
              "      <td>9.481998</td>\n",
              "      <td>174.754294</td>\n",
              "      <td>6.636570</td>\n",
              "      <td>1006.216970</td>\n",
              "    </tr>\n",
              "  </tbody>\n",
              "</table>\n",
              "</div>"
            ],
            "text/plain": [
              "                  Time  Temperature (C)  ...  Visibility (km)  Pressure (millibars)\n",
              "Precip Type                              ...                                       \n",
              "rain         11.623651        13.852989  ...        10.830711           1002.764548\n",
              "snow         10.497573        -3.270885  ...         6.636570           1006.216970\n",
              "\n",
              "[2 rows x 8 columns]"
            ]
          },
          "metadata": {},
          "execution_count": 21
        }
      ]
    },
    {
      "cell_type": "markdown",
      "metadata": {
        "id": "hjj9GeUuAZc0"
      },
      "source": [
        "# **Data Preprocessing**"
      ]
    },
    {
      "cell_type": "markdown",
      "metadata": {
        "id": "_CKKTLz2At6u"
      },
      "source": [
        "First we will perform preprocess the main response variable-'Summary' Feature."
      ]
    },
    {
      "cell_type": "markdown",
      "metadata": {
        "id": "Y1FF5oyyApng"
      },
      "source": [
        "**Summary Feature**"
      ]
    },
    {
      "cell_type": "code",
      "metadata": {
        "id": "ShuHRIZZ7Cot",
        "colab": {
          "base_uri": "https://localhost:8080/",
          "height": 636
        },
        "outputId": "0fb83d73-b463-4fb5-ca9e-cb77b2f41bb5"
      },
      "source": [
        "plt.figure(figsize=(14,7))\n",
        "\n",
        "df['Summary'].value_counts().plot(kind='bar')\n",
        "\n",
        "plt.ylabel('Count')\n",
        "plt.xlabel('Weather Summary')\n",
        "plt.title('Visualization of Weather Summary Feature')\n",
        "plt.xticks(rotation=80)\n",
        "plt.show()"
      ],
      "execution_count": 22,
      "outputs": [
        {
          "output_type": "display_data",
          "data": {
            "image/png": "[encoded data removed]",
            "text/plain": [
              "<Figure size 1008x504 with 1 Axes>"
            ]
          },
          "metadata": {
            "needs_background": "light"
          }
        }
      ]
    },
    {
      "cell_type": "markdown",
      "metadata": {
        "id": "zDTk1UZrBNgU"
      },
      "source": [
        "By the above visualization plot, we can infer that most of the data lies in the first five categories of Weather Summary Feature. The other categories have infinitesimal occurences. Since, this is a qualitative feature, we must clean this rare occuring categories from out dataset"
      ]
    },
    {
      "cell_type": "code",
      "metadata": {
        "colab": {
          "base_uri": "https://localhost:8080/"
        },
        "id": "724KAe5ABOYP",
        "outputId": "a13c0972-d6dc-47de-a780-21e5615b0cfd"
      },
      "source": [
        "# We will first estimate their percentage of occurence within the dataset.\n",
        "\n",
        "# The below code uses \"Boolean Masking\" technique of python.\n",
        "# Here, we will not consider the rows have ['Partly Cloudy', 'Mostly Cloudy', 'Overcast', 'Foggy' and 'Clear']\n",
        "df[(df['Summary']!='Partly Cloudy') & (df['Summary']!='Mostly Cloudy') &\n",
        "     (df['Summary']!='Overcast') & (df['Summary']!='Foggy') & (df['Summary']!='Clear')].shape[0]/df.shape[0]*100"
      ],
      "execution_count": 23,
      "outputs": [
        {
          "output_type": "execute_result",
          "data": {
            "text/plain": [
              "2.0642178055633313"
            ]
          },
          "metadata": {},
          "execution_count": 23
        }
      ]
    },
    {
      "cell_type": "markdown",
      "metadata": {
        "id": "Okm06icyEJfS"
      },
      "source": [
        "Only 2% of our data not lies in the top five categories of Summary Feature. \n",
        "\n",
        "But, instead of dropping them all, we observe that there are categories which are intersection between two weather summary. Like, 'Breezy and Partly Cloudy' is the data recorded when weather was both Breezy and Partly Cloudy. Instead of dropping this observations (rows), we will add their occurence to 'Partly Cloudy'\n",
        "\n",
        "Similarly, with other categories as well."
      ]
    },
    {
      "cell_type": "code",
      "metadata": {
        "id": "GakxXjrJllQw"
      },
      "source": [
        "# storing the index for unclean data for preprocessing\n",
        "uncleanData_index = df[(df['Summary']!='Partly Cloudy') & (df['Summary']!='Mostly Cloudy') &\n",
        "     (df['Summary']!='Overcast') & (df['Summary']!='Foggy') & (df['Summary']!='Clear')].index"
      ],
      "execution_count": 24,
      "outputs": []
    },
    {
      "cell_type": "code",
      "metadata": {
        "id": "MyS9XjaOBWhD"
      },
      "source": [
        "# Creating a copy of dataset\n",
        "df_preprocessed = df.copy()\n",
        "\n",
        "# Iterating through the unclean_data index\n",
        "for row in uncleanData_index:\n",
        "\n",
        "      # Using string matching technique\n",
        "      if 'Partly Cloudy' in df_preprocessed['Summary'][row]:\n",
        "          df_preprocessed.loc[row, 'Summary'] = 'Partly Cloudy'\n",
        "          \n",
        "      elif 'Mostly Cloudy' in df_preprocessed['Summary'][row]:\n",
        "          df_preprocessed.loc[row, 'Summary'] = 'Mostly Cloudy'\n",
        "          \n",
        "      elif 'Overcast' in df_preprocessed['Summary'][row]:\n",
        "          df_preprocessed.loc[row, 'Summary'] = 'Overcast'\n",
        "      \n",
        "      elif 'Foggy' in df_preprocessed['Summary'][row]:\n",
        "          df_preprocessed.loc[row, 'Summary'] = 'Foggy'"
      ],
      "execution_count": 25,
      "outputs": []
    },
    {
      "cell_type": "code",
      "metadata": {
        "colab": {
          "base_uri": "https://localhost:8080/"
        },
        "id": "WSfb45KcBw4H",
        "outputId": "442dcb10-3a4a-4404-e3b2-cbc7ee5dfb3a"
      },
      "source": [
        "# We check that preprocessed data has retained all the rows of the original dataset \n",
        "\n",
        "df_preprocessed.shape"
      ],
      "execution_count": 26,
      "outputs": [
        {
          "output_type": "execute_result",
          "data": {
            "text/plain": [
              "(96453, 12)"
            ]
          },
          "metadata": {},
          "execution_count": 26
        }
      ]
    },
    {
      "cell_type": "code",
      "metadata": {
        "colab": {
          "base_uri": "https://localhost:8080/"
        },
        "id": "xT-3Ope6cMUt",
        "outputId": "d8be15a9-41f2-4367-f4b6-2623643caa90"
      },
      "source": [
        "df_preprocessed['Summary'].nunique()"
      ],
      "execution_count": 27,
      "outputs": [
        {
          "output_type": "execute_result",
          "data": {
            "text/plain": [
              "13"
            ]
          },
          "metadata": {},
          "execution_count": 27
        }
      ]
    },
    {
      "cell_type": "code",
      "metadata": {
        "colab": {
          "base_uri": "https://localhost:8080/"
        },
        "id": "R4SYavZdl8Xk",
        "outputId": "e442849e-2bbc-492a-b370-e92c0b94e9e1"
      },
      "source": [
        "df_preprocessed['Summary'].value_counts()"
      ],
      "execution_count": 28,
      "outputs": [
        {
          "output_type": "execute_result",
          "data": {
            "text/plain": [
              "Partly Cloudy     32290\n",
              "Mostly Cloudy     28699\n",
              "Overcast          17177\n",
              "Clear             10890\n",
              "Foggy              7187\n",
              "Light Rain           63\n",
              "Breezy               54\n",
              "Drizzle              39\n",
              "Dry                  34\n",
              "Rain                 10\n",
              "Windy                 8\n",
              "Breezy and Dry        1\n",
              "Windy and Dry         1\n",
              "Name: Summary, dtype: int64"
            ]
          },
          "metadata": {},
          "execution_count": 28
        }
      ]
    },
    {
      "cell_type": "code",
      "metadata": {
        "id": "4Vo_9JF6mbrL"
      },
      "source": [
        "uncleanData_index = df_preprocessed[(df_preprocessed['Summary']!='Partly Cloudy') & (df_preprocessed['Summary']!='Mostly Cloudy') &\n",
        "     (df_preprocessed['Summary']!='Overcast') & (df_preprocessed['Summary']!='Foggy') & (df_preprocessed['Summary']!='Clear')].index"
      ],
      "execution_count": 29,
      "outputs": []
    },
    {
      "cell_type": "code",
      "metadata": {
        "colab": {
          "base_uri": "https://localhost:8080/"
        },
        "id": "FVotBUm9mBZ6",
        "outputId": "dfbd2445-c0d1-457b-bc72-0ed731fac56b"
      },
      "source": [
        "uncleanData_index.shape[0]/df.shape[0]*100"
      ],
      "execution_count": 30,
      "outputs": [
        {
          "output_type": "execute_result",
          "data": {
            "text/plain": [
              "0.21772262138036141"
            ]
          },
          "metadata": {},
          "execution_count": 30
        }
      ]
    },
    {
      "cell_type": "code",
      "metadata": {
        "id": "Dg9fBdddmMDj"
      },
      "source": [
        "df_preprocessed.drop(index=uncleanData_index, inplace=True)"
      ],
      "execution_count": 31,
      "outputs": []
    },
    {
      "cell_type": "code",
      "metadata": {
        "colab": {
          "base_uri": "https://localhost:8080/",
          "height": 513
        },
        "id": "4Cb9tCmIm3Cl",
        "outputId": "800709e6-5e6b-4219-9367-a10bbbba69c5"
      },
      "source": [
        "plt.figure(figsize=(14,8))\n",
        "\n",
        "df_preprocessed['Summary'].value_counts().plot(kind='bar')\n",
        "\n",
        "plt.ylabel('Count')\n",
        "plt.xlabel('Weather Summary')\n",
        "plt.title('Summary Feature after Preprocessing')\n",
        "plt.xticks(rotation=0)\n",
        "plt.show()"
      ],
      "execution_count": 32,
      "outputs": [
        {
          "output_type": "display_data",
          "data": {
            "image/png": "[encoded data removed]",
            "text/plain": [
              "<Figure size 1008x576 with 1 Axes>"
            ]
          },
          "metadata": {
            "needs_background": "light"
          }
        }
      ]
    },
    {
      "cell_type": "markdown",
      "metadata": {
        "id": "7XcfNaZNkFrL"
      },
      "source": [
        "**Studying Coorelation between Features**"
      ]
    },
    {
      "cell_type": "code",
      "metadata": {
        "colab": {
          "base_uri": "https://localhost:8080/",
          "height": 361
        },
        "id": "iPAkX9SbkMCV",
        "outputId": "eece187e-90b8-4f81-83cc-b666775438e5"
      },
      "source": [
        "plt.figure(figsize=(12,6))\n",
        "sns.heatmap(data=df_preprocessed.corr(), annot=True, fmt='.2f', cmap='Blues', xticklabels=False)\n",
        "plt.show()"
      ],
      "execution_count": 33,
      "outputs": [
        {
          "output_type": "display_data",
          "data": {
            "image/png": "[encoded data removed]",
            "text/plain": [
              "<Figure size 864x432 with 2 Axes>"
            ]
          },
          "metadata": {
            "needs_background": "light"
          }
        }
      ]
    },
    {
      "cell_type": "markdown",
      "metadata": {
        "id": "XYxj1soukeMR"
      },
      "source": [
        "Temperature has very strong positive correlation with 'Apparent Temprature'<br />&emsp;&emsp;&emsp;&emsp;&emsp;&emsp;&emsp;\n",
        "                moderate negative correlation with 'Humidity'<br />&emsp;&emsp;&emsp;&emsp;&emsp;&emsp;&emsp;\n",
        "                moderate positive correaltion with 'Visibility'<br />&emsp;&emsp;&emsp;&emsp;&emsp;&emsp;&emsp;\n",
        "                no correlation with 'Wind Speed', 'Wind Bearing' and 'Pressure'"
      ]
    },
    {
      "cell_type": "markdown",
      "metadata": {
        "id": "F4H-RQFNC4_O"
      },
      "source": [
        "**Precip Type Feature**"
      ]
    },
    {
      "cell_type": "code",
      "metadata": {
        "colab": {
          "base_uri": "https://localhost:8080/"
        },
        "id": "RVwtaZP8C_VC",
        "outputId": "1c18d4bb-04c4-4cab-b5b4-76847e271026"
      },
      "source": [
        "df_preprocessed.isna().sum()"
      ],
      "execution_count": 34,
      "outputs": [
        {
          "output_type": "execute_result",
          "data": {
            "text/plain": [
              "Date                          0\n",
              "Time                          0\n",
              "Summary                       0\n",
              "Precip Type                 517\n",
              "Temperature (C)               0\n",
              "Apparent Temperature (C)      0\n",
              "Humidity                      0\n",
              "Wind Speed (km/h)             0\n",
              "Wind Bearing (degrees)        0\n",
              "Visibility (km)               0\n",
              "Pressure (millibars)          0\n",
              "Daily Summary                 0\n",
              "dtype: int64"
            ]
          },
          "metadata": {},
          "execution_count": 34
        }
      ]
    },
    {
      "cell_type": "code",
      "metadata": {
        "colab": {
          "base_uri": "https://localhost:8080/"
        },
        "id": "DI2O9hwgDEcM",
        "outputId": "51b27dfc-a3bf-4839-b00e-7289a95e25e5"
      },
      "source": [
        "precip_na_index = df_preprocessed.loc[pd.isna(df_preprocessed['Precip Type']), :].index\n",
        "\n",
        "for row in precip_na_index:\n",
        "    if df_preprocessed.loc[row, 'Temperature (C)']<=0:\n",
        "        df_preprocessed.loc[row, 'Precip Type'] = 'snow'\n",
        "    else :\n",
        "        df_preprocessed.loc[row, 'Precip Type'] = 'rain'\n",
        "\n",
        "df_preprocessed['Precip Type'].isna().sum()"
      ],
      "execution_count": 35,
      "outputs": [
        {
          "output_type": "execute_result",
          "data": {
            "text/plain": [
              "0"
            ]
          },
          "metadata": {},
          "execution_count": 35
        }
      ]
    },
    {
      "cell_type": "markdown",
      "metadata": {
        "id": "hxprUpQLVuU6"
      },
      "source": [
        ""
      ]
    },
    {
      "cell_type": "markdown",
      "metadata": {
        "id": "xH85sHDQVwbq"
      },
      "source": [
        "# Data Modelling"
      ]
    },
    {
      "cell_type": "code",
      "metadata": {
        "id": "sC5kg_KLVzhD"
      },
      "source": [
        "from sklearn.preprocessing import LabelBinarizer, LabelEncoder\n",
        "from sklearn.model_selection import train_test_split\n",
        "from sklearn.metrics import r2_score, mean_squared_error, confusion_matrix, accuracy_score, classification_report\n",
        "import joblib"
      ],
      "execution_count": 36,
      "outputs": []
    },
    {
      "cell_type": "markdown",
      "metadata": {
        "id": "jDhPw5c7V9Rp"
      },
      "source": [
        "**Linear Regression - Predicting Temperature**"
      ]
    },
    {
      "cell_type": "code",
      "metadata": {
        "id": "8xwrQgGFV7BA"
      },
      "source": [
        "## Model Selection - Splitting Training and Test Dataset\n",
        "x = df_preprocessed.loc[:, ['Apparent Temperature (C)', 'Humidity']]\n",
        "y = df_preprocessed.loc[:, 'Temperature (C)']\n",
        "\n",
        "x_train, x_test, y_train, y_test = train_test_split(x, y, test_size=0.2, random_state=1)"
      ],
      "execution_count": 38,
      "outputs": []
    },
    {
      "cell_type": "code",
      "metadata": {
        "id": "0szO24W4WHJV"
      },
      "source": [
        "## Building the Model\n",
        "from sklearn.linear_model import LinearRegression\n",
        "\n",
        "lrmodel = LinearRegression()\n",
        "\n",
        "lrmodel.fit(x_train, y_train)\n",
        "temp_predict = lrmodel.predict(x_test)"
      ],
      "execution_count": 39,
      "outputs": []
    },
    {
      "cell_type": "code",
      "metadata": {
        "id": "0VwDAZT3WQoW",
        "outputId": "3b0816b7-1c2f-4e7d-d966-97cbc05f8fd4",
        "colab": {
          "base_uri": "https://localhost:8080/"
        }
      },
      "source": [
        "## Linear regression Model Evaluation\n",
        "r2_value = r2_score(temp_predict, y_test) \n",
        "print(\"R-Squared Score of the Linear Regression Model is\", round(r2_value, 4))\n",
        "\n",
        "mean_sq_error = mean_squared_error(temp_predict, y_test)\n",
        "print(\"Mean Square Error of the Linear Regression Model is\", round(mean_sq_error, 2))"
      ],
      "execution_count": 40,
      "outputs": [
        {
          "output_type": "stream",
          "name": "stdout",
          "text": [
            "R-Squared Score of the Linear Regression Model is 0.9871\n",
            "Mean Square Error of the Linear Regression Model is 1.16\n"
          ]
        }
      ]
    }
  ]
}