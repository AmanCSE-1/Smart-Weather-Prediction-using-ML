{
  "nbformat": 4,
  "nbformat_minor": 0,
  "metadata": {
    "colab": {
      "name": "Untitled0.ipynb",
      "provenance": [],
      "include_colab_link": true
    },
    "kernelspec": {
      "name": "python3",
      "display_name": "Python 3"
    },
    "language_info": {
      "name": "python"
    }
  },
  "cells": [
    {
      "cell_type": "markdown",
      "metadata": {
        "id": "view-in-github",
        "colab_type": "text"
      },
      "source": [
        "<a href=\"https://colab.research.google.com/github/AmanCSE-1/Smart-Weather-Prediction-using-ML/blob/main/main.ipynb\" target=\"_parent\"><img src=\"https://colab.research.google.com/assets/colab-badge.svg\" alt=\"Open In Colab\"/></a>"
      ]
    },
    {
      "cell_type": "markdown",
      "metadata": {
        "id": "ld4OVVrw51cN"
      },
      "source": [
        "<em><b>Objective :</b> A Financial organization wants to predict the possible defaulters for the consumer loans product. They have data about historic customer behavior based on what they have observed. Hence when they acquire new customers they want to predict who is riskier and who is not.</em>"
      ]
    },
    {
      "cell_type": "markdown",
      "metadata": {
        "id": "-a_2U0egrJQN"
      },
      "source": [
        "# **Importing Libraries and Loading Dataset**"
      ]
    },
    {
      "cell_type": "code",
      "metadata": {
        "id": "YoxBFSVXK1So"
      },
      "source": [
        "# Importing the fundamental libraries of data science\n",
        "\n",
        "import pandas as pd                       # For Data Analysis and Preprocessing \n",
        "import numpy as np                        # For mathematical operations on data \n",
        "import matplotlib.pyplot as plt           # For Visualization and setting graph elements\n",
        "import seaborn as sns                     # Consists of easy and interactive statistical graphics "
      ],
      "execution_count": 1,
      "outputs": []
    },
    {
      "cell_type": "code",
      "metadata": {
        "colab": {
          "base_uri": "https://localhost:8080/",
          "height": 405
        },
        "id": "JBhT8yFuVsUH",
        "outputId": "3e5ffa3e-0016-49ac-88d7-f4f3913dd420"
      },
      "source": [
        "df = pd.read_csv('/India Weather History.csv')      # Reading the dataset\n",
        "\n",
        "df.head()                                     # Printing the first 5 rows of the dataset"
      ],
      "execution_count": 2,
      "outputs": [
        {
          "output_type": "execute_result",
          "data": {
            "text/html": [
              "<div>\n",
              "<style scoped>\n",
              "    .dataframe tbody tr th:only-of-type {\n",
              "        vertical-align: middle;\n",
              "    }\n",
              "\n",
              "    .dataframe tbody tr th {\n",
              "        vertical-align: top;\n",
              "    }\n",
              "\n",
              "    .dataframe thead th {\n",
              "        text-align: right;\n",
              "    }\n",
              "</style>\n",
              "<table border=\"1\" class=\"dataframe\">\n",
              "  <thead>\n",
              "    <tr style=\"text-align: right;\">\n",
              "      <th></th>\n",
              "      <th>Formatted Date</th>\n",
              "      <th>Summary</th>\n",
              "      <th>Precip Type</th>\n",
              "      <th>Temperature (C)</th>\n",
              "      <th>Apparent Temperature (C)</th>\n",
              "      <th>Humidity</th>\n",
              "      <th>Wind Speed (km/h)</th>\n",
              "      <th>Wind Bearing (degrees)</th>\n",
              "      <th>Visibility (km)</th>\n",
              "      <th>Loud Cover</th>\n",
              "      <th>Pressure (millibars)</th>\n",
              "      <th>Daily Summary</th>\n",
              "    </tr>\n",
              "  </thead>\n",
              "  <tbody>\n",
              "    <tr>\n",
              "      <th>0</th>\n",
              "      <td>2006-04-01 00:00:00.000 +0200</td>\n",
              "      <td>Partly Cloudy</td>\n",
              "      <td>rain</td>\n",
              "      <td>9.472222</td>\n",
              "      <td>7.388889</td>\n",
              "      <td>0.89</td>\n",
              "      <td>14.1197</td>\n",
              "      <td>251.0</td>\n",
              "      <td>15.8263</td>\n",
              "      <td>0.0</td>\n",
              "      <td>1015.13</td>\n",
              "      <td>Partly cloudy throughout the day.</td>\n",
              "    </tr>\n",
              "    <tr>\n",
              "      <th>1</th>\n",
              "      <td>2006-04-01 01:00:00.000 +0200</td>\n",
              "      <td>Partly Cloudy</td>\n",
              "      <td>rain</td>\n",
              "      <td>9.355556</td>\n",
              "      <td>7.227778</td>\n",
              "      <td>0.86</td>\n",
              "      <td>14.2646</td>\n",
              "      <td>259.0</td>\n",
              "      <td>15.8263</td>\n",
              "      <td>0.0</td>\n",
              "      <td>1015.63</td>\n",
              "      <td>Partly cloudy throughout the day.</td>\n",
              "    </tr>\n",
              "    <tr>\n",
              "      <th>2</th>\n",
              "      <td>2006-04-01 02:00:00.000 +0200</td>\n",
              "      <td>Mostly Cloudy</td>\n",
              "      <td>rain</td>\n",
              "      <td>9.377778</td>\n",
              "      <td>9.377778</td>\n",
              "      <td>0.89</td>\n",
              "      <td>3.9284</td>\n",
              "      <td>204.0</td>\n",
              "      <td>14.9569</td>\n",
              "      <td>0.0</td>\n",
              "      <td>1015.94</td>\n",
              "      <td>Partly cloudy throughout the day.</td>\n",
              "    </tr>\n",
              "    <tr>\n",
              "      <th>3</th>\n",
              "      <td>2006-04-01 03:00:00.000 +0200</td>\n",
              "      <td>Partly Cloudy</td>\n",
              "      <td>rain</td>\n",
              "      <td>8.288889</td>\n",
              "      <td>5.944444</td>\n",
              "      <td>0.83</td>\n",
              "      <td>14.1036</td>\n",
              "      <td>269.0</td>\n",
              "      <td>15.8263</td>\n",
              "      <td>0.0</td>\n",
              "      <td>1016.41</td>\n",
              "      <td>Partly cloudy throughout the day.</td>\n",
              "    </tr>\n",
              "    <tr>\n",
              "      <th>4</th>\n",
              "      <td>2006-04-01 04:00:00.000 +0200</td>\n",
              "      <td>Mostly Cloudy</td>\n",
              "      <td>rain</td>\n",
              "      <td>8.755556</td>\n",
              "      <td>6.977778</td>\n",
              "      <td>0.83</td>\n",
              "      <td>11.0446</td>\n",
              "      <td>259.0</td>\n",
              "      <td>15.8263</td>\n",
              "      <td>0.0</td>\n",
              "      <td>1016.51</td>\n",
              "      <td>Partly cloudy throughout the day.</td>\n",
              "    </tr>\n",
              "  </tbody>\n",
              "</table>\n",
              "</div>"
            ],
            "text/plain": [
              "                  Formatted Date  ...                      Daily Summary\n",
              "0  2006-04-01 00:00:00.000 +0200  ...  Partly cloudy throughout the day.\n",
              "1  2006-04-01 01:00:00.000 +0200  ...  Partly cloudy throughout the day.\n",
              "2  2006-04-01 02:00:00.000 +0200  ...  Partly cloudy throughout the day.\n",
              "3  2006-04-01 03:00:00.000 +0200  ...  Partly cloudy throughout the day.\n",
              "4  2006-04-01 04:00:00.000 +0200  ...  Partly cloudy throughout the day.\n",
              "\n",
              "[5 rows x 12 columns]"
            ]
          },
          "metadata": {},
          "execution_count": 2
        }
      ]
    },
    {
      "cell_type": "code",
      "metadata": {
        "colab": {
          "base_uri": "https://localhost:8080/"
        },
        "id": "3cK9hePDVxoG",
        "outputId": "8e119172-703e-4931-c9cb-9435cb67c75c"
      },
      "source": [
        "df.shape                          # Returns the number of rows and number of columns of dataset"
      ],
      "execution_count": 3,
      "outputs": [
        {
          "output_type": "execute_result",
          "data": {
            "text/plain": [
              "(96453, 12)"
            ]
          },
          "metadata": {},
          "execution_count": 3
        }
      ]
    },
    {
      "cell_type": "code",
      "metadata": {
        "colab": {
          "base_uri": "https://localhost:8080/"
        },
        "id": "WYUcEqSBWgCV",
        "outputId": "b7afaa2e-83e7-41ad-81c6-e2d6759efe30"
      },
      "source": [
        "df.columns                        # Returns the name of columns of dataset"
      ],
      "execution_count": 4,
      "outputs": [
        {
          "output_type": "execute_result",
          "data": {
            "text/plain": [
              "Index(['Formatted Date', 'Summary', 'Precip Type', 'Temperature (C)',\n",
              "       'Apparent Temperature (C)', 'Humidity', 'Wind Speed (km/h)',\n",
              "       'Wind Bearing (degrees)', 'Visibility (km)', 'Loud Cover',\n",
              "       'Pressure (millibars)', 'Daily Summary'],\n",
              "      dtype='object')"
            ]
          },
          "metadata": {},
          "execution_count": 4
        }
      ]
    },
    {
      "cell_type": "markdown",
      "metadata": {
        "id": "Y8XdZ8xhq__T"
      },
      "source": [
        "## **Exploratory Data Analysis**"
      ]
    },
    {
      "cell_type": "code",
      "metadata": {
        "colab": {
          "base_uri": "https://localhost:8080/"
        },
        "id": "S5GPaNwMq-rx",
        "outputId": "2640a797-8a66-4954-b13f-eee2ef066c05"
      },
      "source": [
        "df.info()           # to get a consice summary of the dataframe"
      ],
      "execution_count": 5,
      "outputs": [
        {
          "output_type": "stream",
          "name": "stdout",
          "text": [
            "<class 'pandas.core.frame.DataFrame'>\n",
            "RangeIndex: 96453 entries, 0 to 96452\n",
            "Data columns (total 12 columns):\n",
            " #   Column                    Non-Null Count  Dtype  \n",
            "---  ------                    --------------  -----  \n",
            " 0   Formatted Date            96453 non-null  object \n",
            " 1   Summary                   96453 non-null  object \n",
            " 2   Precip Type               95936 non-null  object \n",
            " 3   Temperature (C)           96453 non-null  float64\n",
            " 4   Apparent Temperature (C)  96453 non-null  float64\n",
            " 5   Humidity                  96453 non-null  float64\n",
            " 6   Wind Speed (km/h)         96453 non-null  float64\n",
            " 7   Wind Bearing (degrees)    96453 non-null  float64\n",
            " 8   Visibility (km)           96453 non-null  float64\n",
            " 9   Loud Cover                96453 non-null  float64\n",
            " 10  Pressure (millibars)      96453 non-null  float64\n",
            " 11  Daily Summary             96453 non-null  object \n",
            "dtypes: float64(8), object(4)\n",
            "memory usage: 8.8+ MB\n"
          ]
        }
      ]
    },
    {
      "cell_type": "code",
      "metadata": {
        "colab": {
          "base_uri": "https://localhost:8080/",
          "height": 312
        },
        "id": "-gCkfckgrZ5K",
        "outputId": "d13462cb-025f-4186-a795-12024bc1499d"
      },
      "source": [
        "df.describe()         # Used to describe various statistical measures for quantitative columns\n",
        "                      # Mean, Median(Q2) describes the characteristic of distribution of column\n",
        "                      # 25% (Q1),  50% (Q2) and 75 (Q3) are Quartiles of the features.\n",
        "                      # std is Standard Deviation i.e. depicts spread  of the distribution\n",
        "                      # min and max are known to everybody :)"
      ],
      "execution_count": 6,
      "outputs": [
        {
          "output_type": "execute_result",
          "data": {
            "text/html": [
              "<div>\n",
              "<style scoped>\n",
              "    .dataframe tbody tr th:only-of-type {\n",
              "        vertical-align: middle;\n",
              "    }\n",
              "\n",
              "    .dataframe tbody tr th {\n",
              "        vertical-align: top;\n",
              "    }\n",
              "\n",
              "    .dataframe thead th {\n",
              "        text-align: right;\n",
              "    }\n",
              "</style>\n",
              "<table border=\"1\" class=\"dataframe\">\n",
              "  <thead>\n",
              "    <tr style=\"text-align: right;\">\n",
              "      <th></th>\n",
              "      <th>Temperature (C)</th>\n",
              "      <th>Apparent Temperature (C)</th>\n",
              "      <th>Humidity</th>\n",
              "      <th>Wind Speed (km/h)</th>\n",
              "      <th>Wind Bearing (degrees)</th>\n",
              "      <th>Visibility (km)</th>\n",
              "      <th>Loud Cover</th>\n",
              "      <th>Pressure (millibars)</th>\n",
              "    </tr>\n",
              "  </thead>\n",
              "  <tbody>\n",
              "    <tr>\n",
              "      <th>count</th>\n",
              "      <td>96453.000000</td>\n",
              "      <td>96453.000000</td>\n",
              "      <td>96453.000000</td>\n",
              "      <td>96453.000000</td>\n",
              "      <td>96453.000000</td>\n",
              "      <td>96453.000000</td>\n",
              "      <td>96453.0</td>\n",
              "      <td>96453.000000</td>\n",
              "    </tr>\n",
              "    <tr>\n",
              "      <th>mean</th>\n",
              "      <td>11.932678</td>\n",
              "      <td>10.855029</td>\n",
              "      <td>0.734899</td>\n",
              "      <td>10.810640</td>\n",
              "      <td>187.509232</td>\n",
              "      <td>10.347325</td>\n",
              "      <td>0.0</td>\n",
              "      <td>1003.235956</td>\n",
              "    </tr>\n",
              "    <tr>\n",
              "      <th>std</th>\n",
              "      <td>9.551546</td>\n",
              "      <td>10.696847</td>\n",
              "      <td>0.195473</td>\n",
              "      <td>6.913571</td>\n",
              "      <td>107.383428</td>\n",
              "      <td>4.192123</td>\n",
              "      <td>0.0</td>\n",
              "      <td>116.969906</td>\n",
              "    </tr>\n",
              "    <tr>\n",
              "      <th>min</th>\n",
              "      <td>-21.822222</td>\n",
              "      <td>-27.716667</td>\n",
              "      <td>0.000000</td>\n",
              "      <td>0.000000</td>\n",
              "      <td>0.000000</td>\n",
              "      <td>0.000000</td>\n",
              "      <td>0.0</td>\n",
              "      <td>0.000000</td>\n",
              "    </tr>\n",
              "    <tr>\n",
              "      <th>25%</th>\n",
              "      <td>4.688889</td>\n",
              "      <td>2.311111</td>\n",
              "      <td>0.600000</td>\n",
              "      <td>5.828200</td>\n",
              "      <td>116.000000</td>\n",
              "      <td>8.339800</td>\n",
              "      <td>0.0</td>\n",
              "      <td>1011.900000</td>\n",
              "    </tr>\n",
              "    <tr>\n",
              "      <th>50%</th>\n",
              "      <td>12.000000</td>\n",
              "      <td>12.000000</td>\n",
              "      <td>0.780000</td>\n",
              "      <td>9.965900</td>\n",
              "      <td>180.000000</td>\n",
              "      <td>10.046400</td>\n",
              "      <td>0.0</td>\n",
              "      <td>1016.450000</td>\n",
              "    </tr>\n",
              "    <tr>\n",
              "      <th>75%</th>\n",
              "      <td>18.838889</td>\n",
              "      <td>18.838889</td>\n",
              "      <td>0.890000</td>\n",
              "      <td>14.135800</td>\n",
              "      <td>290.000000</td>\n",
              "      <td>14.812000</td>\n",
              "      <td>0.0</td>\n",
              "      <td>1021.090000</td>\n",
              "    </tr>\n",
              "    <tr>\n",
              "      <th>max</th>\n",
              "      <td>39.905556</td>\n",
              "      <td>39.344444</td>\n",
              "      <td>1.000000</td>\n",
              "      <td>63.852600</td>\n",
              "      <td>359.000000</td>\n",
              "      <td>16.100000</td>\n",
              "      <td>0.0</td>\n",
              "      <td>1046.380000</td>\n",
              "    </tr>\n",
              "  </tbody>\n",
              "</table>\n",
              "</div>"
            ],
            "text/plain": [
              "       Temperature (C)  ...  Pressure (millibars)\n",
              "count     96453.000000  ...          96453.000000\n",
              "mean         11.932678  ...           1003.235956\n",
              "std           9.551546  ...            116.969906\n",
              "min         -21.822222  ...              0.000000\n",
              "25%           4.688889  ...           1011.900000\n",
              "50%          12.000000  ...           1016.450000\n",
              "75%          18.838889  ...           1021.090000\n",
              "max          39.905556  ...           1046.380000\n",
              "\n",
              "[8 rows x 8 columns]"
            ]
          },
          "metadata": {},
          "execution_count": 6
        }
      ]
    },
    {
      "cell_type": "code",
      "metadata": {
        "colab": {
          "base_uri": "https://localhost:8080/"
        },
        "id": "t949Uc8_rbpg",
        "outputId": "2ca1656d-204e-440e-a69d-ba32faf09712"
      },
      "source": [
        "df.isna().sum()             # Returns the sum of rows that contains null values for each column"
      ],
      "execution_count": 7,
      "outputs": [
        {
          "output_type": "execute_result",
          "data": {
            "text/plain": [
              "Formatted Date                0\n",
              "Summary                       0\n",
              "Precip Type                 517\n",
              "Temperature (C)               0\n",
              "Apparent Temperature (C)      0\n",
              "Humidity                      0\n",
              "Wind Speed (km/h)             0\n",
              "Wind Bearing (degrees)        0\n",
              "Visibility (km)               0\n",
              "Loud Cover                    0\n",
              "Pressure (millibars)          0\n",
              "Daily Summary                 0\n",
              "dtype: int64"
            ]
          },
          "metadata": {},
          "execution_count": 7
        }
      ]
    },
    {
      "cell_type": "code",
      "metadata": {
        "id": "yQzTDMVCq-xu"
      },
      "source": [
        "# Dropping the 'Loud Cover' Column as it contains all rows with value '0'.\n",
        "# It will not add any value to the model\n",
        "\n",
        "df.drop('Loud Cover', axis=1, inplace=True)"
      ],
      "execution_count": 8,
      "outputs": []
    }
  ]
}