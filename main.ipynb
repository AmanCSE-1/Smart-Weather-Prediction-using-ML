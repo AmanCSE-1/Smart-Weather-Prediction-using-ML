{
  "nbformat": 4,
  "nbformat_minor": 0,
  "metadata": {
    "colab": {
      "name": "Untitled0.ipynb",
      "provenance": [],
      "include_colab_link": true
    },
    "kernelspec": {
      "name": "python3",
      "display_name": "Python 3"
    },
    "language_info": {
      "name": "python"
    }
  },
  "cells": [
    {
      "cell_type": "markdown",
      "metadata": {
        "id": "view-in-github",
        "colab_type": "text"
      },
      "source": [
        "<a href=\"https://colab.research.google.com/github/AmanCSE-1/Smart-Weather-Prediction-using-ML/blob/main/main.ipynb\" target=\"_parent\"><img src=\"https://colab.research.google.com/assets/colab-badge.svg\" alt=\"Open In Colab\"/></a>"
      ]
    },
    {
      "cell_type": "markdown",
      "metadata": {
        "id": "ld4OVVrw51cN"
      },
      "source": [
        "<em><b>Objective :</b> Weather forecasting is simply the prediction of future weather based on different parameters of the past like temperature, humidity, dew, wind speed and direction, precipitation, Haze and contents of air, Solar and terrestrial radiation etc. Weather forecast is an essential factor affecting people’s lives. Weather forecast notices are important because they can be used to prevent destruction of life and environment.</em>"
      ]
    },
    {
      "cell_type": "markdown",
      "metadata": {
        "id": "-a_2U0egrJQN"
      },
      "source": [
        "# **Importing Libraries and Loading Dataset**"
      ]
    },
    {
      "cell_type": "code",
      "metadata": {
        "id": "YoxBFSVXK1So"
      },
      "source": [
        "# Importing the fundamental libraries of data science\n",
        "\n",
        "import pandas as pd                       # For Data Analysis and Preprocessing \n",
        "import numpy as np                        # For mathematical operations on data \n",
        "import matplotlib.pyplot as plt           # For Visualization and setting graph elements\n",
        "import seaborn as sns                     # Consists of easy and interactive statistical graphics "
      ],
      "execution_count": 27,
      "outputs": []
    },
    {
      "cell_type": "code",
      "metadata": {
        "colab": {
          "base_uri": "https://localhost:8080/",
          "height": 386
        },
        "id": "JBhT8yFuVsUH",
        "outputId": "c73997c3-096e-453a-b489-860f29f83564"
      },
      "source": [
        "url = \"https://raw.githubusercontent.com/AmanCSE-1/Smart-Weather-Prediction-using-ML/main/India%20Weather%20History.csv\"\n",
        "df = pd.read_csv(url)                     # Reading the dataset\n",
        "\n",
        "df.head()                                 # Printing the first 5 rows of the dataset"
      ],
      "execution_count": 28,
      "outputs": [
        {
          "output_type": "execute_result",
          "data": {
            "text/html": [
              "<div>\n",
              "<style scoped>\n",
              "    .dataframe tbody tr th:only-of-type {\n",
              "        vertical-align: middle;\n",
              "    }\n",
              "\n",
              "    .dataframe tbody tr th {\n",
              "        vertical-align: top;\n",
              "    }\n",
              "\n",
              "    .dataframe thead th {\n",
              "        text-align: right;\n",
              "    }\n",
              "</style>\n",
              "<table border=\"1\" class=\"dataframe\">\n",
              "  <thead>\n",
              "    <tr style=\"text-align: right;\">\n",
              "      <th></th>\n",
              "      <th>Formatted Date</th>\n",
              "      <th>Summary</th>\n",
              "      <th>Precip Type</th>\n",
              "      <th>Temperature (C)</th>\n",
              "      <th>Apparent Temperature (C)</th>\n",
              "      <th>Humidity</th>\n",
              "      <th>Wind Speed (km/h)</th>\n",
              "      <th>Wind Bearing (degrees)</th>\n",
              "      <th>Visibility (km)</th>\n",
              "      <th>Loud Cover</th>\n",
              "      <th>Pressure (millibars)</th>\n",
              "      <th>Daily Summary</th>\n",
              "    </tr>\n",
              "  </thead>\n",
              "  <tbody>\n",
              "    <tr>\n",
              "      <th>0</th>\n",
              "      <td>2006-04-01 00:00:00.000 +0200</td>\n",
              "      <td>Partly Cloudy</td>\n",
              "      <td>rain</td>\n",
              "      <td>9.472222</td>\n",
              "      <td>7.388889</td>\n",
              "      <td>0.89</td>\n",
              "      <td>14.1197</td>\n",
              "      <td>251.0</td>\n",
              "      <td>15.8263</td>\n",
              "      <td>0.0</td>\n",
              "      <td>1015.13</td>\n",
              "      <td>Partly cloudy throughout the day.</td>\n",
              "    </tr>\n",
              "    <tr>\n",
              "      <th>1</th>\n",
              "      <td>2006-04-01 01:00:00.000 +0200</td>\n",
              "      <td>Partly Cloudy</td>\n",
              "      <td>rain</td>\n",
              "      <td>9.355556</td>\n",
              "      <td>7.227778</td>\n",
              "      <td>0.86</td>\n",
              "      <td>14.2646</td>\n",
              "      <td>259.0</td>\n",
              "      <td>15.8263</td>\n",
              "      <td>0.0</td>\n",
              "      <td>1015.63</td>\n",
              "      <td>Partly cloudy throughout the day.</td>\n",
              "    </tr>\n",
              "    <tr>\n",
              "      <th>2</th>\n",
              "      <td>2006-04-01 02:00:00.000 +0200</td>\n",
              "      <td>Mostly Cloudy</td>\n",
              "      <td>rain</td>\n",
              "      <td>9.377778</td>\n",
              "      <td>9.377778</td>\n",
              "      <td>0.89</td>\n",
              "      <td>3.9284</td>\n",
              "      <td>204.0</td>\n",
              "      <td>14.9569</td>\n",
              "      <td>0.0</td>\n",
              "      <td>1015.94</td>\n",
              "      <td>Partly cloudy throughout the day.</td>\n",
              "    </tr>\n",
              "    <tr>\n",
              "      <th>3</th>\n",
              "      <td>2006-04-01 03:00:00.000 +0200</td>\n",
              "      <td>Partly Cloudy</td>\n",
              "      <td>rain</td>\n",
              "      <td>8.288889</td>\n",
              "      <td>5.944444</td>\n",
              "      <td>0.83</td>\n",
              "      <td>14.1036</td>\n",
              "      <td>269.0</td>\n",
              "      <td>15.8263</td>\n",
              "      <td>0.0</td>\n",
              "      <td>1016.41</td>\n",
              "      <td>Partly cloudy throughout the day.</td>\n",
              "    </tr>\n",
              "    <tr>\n",
              "      <th>4</th>\n",
              "      <td>2006-04-01 04:00:00.000 +0200</td>\n",
              "      <td>Mostly Cloudy</td>\n",
              "      <td>rain</td>\n",
              "      <td>8.755556</td>\n",
              "      <td>6.977778</td>\n",
              "      <td>0.83</td>\n",
              "      <td>11.0446</td>\n",
              "      <td>259.0</td>\n",
              "      <td>15.8263</td>\n",
              "      <td>0.0</td>\n",
              "      <td>1016.51</td>\n",
              "      <td>Partly cloudy throughout the day.</td>\n",
              "    </tr>\n",
              "  </tbody>\n",
              "</table>\n",
              "</div>"
            ],
            "text/plain": [
              "                  Formatted Date  ...                      Daily Summary\n",
              "0  2006-04-01 00:00:00.000 +0200  ...  Partly cloudy throughout the day.\n",
              "1  2006-04-01 01:00:00.000 +0200  ...  Partly cloudy throughout the day.\n",
              "2  2006-04-01 02:00:00.000 +0200  ...  Partly cloudy throughout the day.\n",
              "3  2006-04-01 03:00:00.000 +0200  ...  Partly cloudy throughout the day.\n",
              "4  2006-04-01 04:00:00.000 +0200  ...  Partly cloudy throughout the day.\n",
              "\n",
              "[5 rows x 12 columns]"
            ]
          },
          "metadata": {},
          "execution_count": 28
        }
      ]
    },
    {
      "cell_type": "code",
      "metadata": {
        "colab": {
          "base_uri": "https://localhost:8080/"
        },
        "id": "3cK9hePDVxoG",
        "outputId": "3847acbc-c35e-41df-d03f-7dab5b940591"
      },
      "source": [
        "df.shape                          # Returns the number of rows and number of columns of dataset"
      ],
      "execution_count": 29,
      "outputs": [
        {
          "output_type": "execute_result",
          "data": {
            "text/plain": [
              "(96453, 12)"
            ]
          },
          "metadata": {},
          "execution_count": 29
        }
      ]
    },
    {
      "cell_type": "code",
      "metadata": {
        "colab": {
          "base_uri": "https://localhost:8080/"
        },
        "id": "WYUcEqSBWgCV",
        "outputId": "fe8ee0dd-e44b-4188-d5e2-cfbc74664bdb"
      },
      "source": [
        "df.columns                        # Returns the name of columns of dataset"
      ],
      "execution_count": 30,
      "outputs": [
        {
          "output_type": "execute_result",
          "data": {
            "text/plain": [
              "Index(['Formatted Date', 'Summary', 'Precip Type', 'Temperature (C)',\n",
              "       'Apparent Temperature (C)', 'Humidity', 'Wind Speed (km/h)',\n",
              "       'Wind Bearing (degrees)', 'Visibility (km)', 'Loud Cover',\n",
              "       'Pressure (millibars)', 'Daily Summary'],\n",
              "      dtype='object')"
            ]
          },
          "metadata": {},
          "execution_count": 30
        }
      ]
    },
    {
      "cell_type": "markdown",
      "metadata": {
        "id": "Y8XdZ8xhq__T"
      },
      "source": [
        "# **Exploratory Data Analysis**"
      ]
    },
    {
      "cell_type": "code",
      "metadata": {
        "colab": {
          "base_uri": "https://localhost:8080/"
        },
        "id": "S5GPaNwMq-rx",
        "outputId": "229ce2e1-b4ff-4abb-b147-84bc6df5be16"
      },
      "source": [
        "df.info()           # to get a consice summary of the dataframe"
      ],
      "execution_count": 31,
      "outputs": [
        {
          "output_type": "stream",
          "name": "stdout",
          "text": [
            "<class 'pandas.core.frame.DataFrame'>\n",
            "RangeIndex: 96453 entries, 0 to 96452\n",
            "Data columns (total 12 columns):\n",
            " #   Column                    Non-Null Count  Dtype  \n",
            "---  ------                    --------------  -----  \n",
            " 0   Formatted Date            96453 non-null  object \n",
            " 1   Summary                   96453 non-null  object \n",
            " 2   Precip Type               95936 non-null  object \n",
            " 3   Temperature (C)           96453 non-null  float64\n",
            " 4   Apparent Temperature (C)  96453 non-null  float64\n",
            " 5   Humidity                  96453 non-null  float64\n",
            " 6   Wind Speed (km/h)         96453 non-null  float64\n",
            " 7   Wind Bearing (degrees)    96453 non-null  float64\n",
            " 8   Visibility (km)           96453 non-null  float64\n",
            " 9   Loud Cover                96453 non-null  float64\n",
            " 10  Pressure (millibars)      96453 non-null  float64\n",
            " 11  Daily Summary             96453 non-null  object \n",
            "dtypes: float64(8), object(4)\n",
            "memory usage: 8.8+ MB\n"
          ]
        }
      ]
    },
    {
      "cell_type": "code",
      "metadata": {
        "colab": {
          "base_uri": "https://localhost:8080/",
          "height": 294
        },
        "id": "-gCkfckgrZ5K",
        "outputId": "0eeaab1a-f1b8-424e-fd94-9461084409d7"
      },
      "source": [
        "df.describe()         # Used to describe various statistical measures for quantitative columns\n",
        "                      # Mean, Median(Q2) describes the characteristic of distribution of column\n",
        "                      # 25% (Q1),  50% (Q2) and 75 (Q3) are Quartiles of the features.\n",
        "                      # std is Standard Deviation i.e. depicts spread  of the distribution\n",
        "                      # min and max are known to everybody :)"
      ],
      "execution_count": 32,
      "outputs": [
        {
          "output_type": "execute_result",
          "data": {
            "text/html": [
              "<div>\n",
              "<style scoped>\n",
              "    .dataframe tbody tr th:only-of-type {\n",
              "        vertical-align: middle;\n",
              "    }\n",
              "\n",
              "    .dataframe tbody tr th {\n",
              "        vertical-align: top;\n",
              "    }\n",
              "\n",
              "    .dataframe thead th {\n",
              "        text-align: right;\n",
              "    }\n",
              "</style>\n",
              "<table border=\"1\" class=\"dataframe\">\n",
              "  <thead>\n",
              "    <tr style=\"text-align: right;\">\n",
              "      <th></th>\n",
              "      <th>Temperature (C)</th>\n",
              "      <th>Apparent Temperature (C)</th>\n",
              "      <th>Humidity</th>\n",
              "      <th>Wind Speed (km/h)</th>\n",
              "      <th>Wind Bearing (degrees)</th>\n",
              "      <th>Visibility (km)</th>\n",
              "      <th>Loud Cover</th>\n",
              "      <th>Pressure (millibars)</th>\n",
              "    </tr>\n",
              "  </thead>\n",
              "  <tbody>\n",
              "    <tr>\n",
              "      <th>count</th>\n",
              "      <td>96453.000000</td>\n",
              "      <td>96453.000000</td>\n",
              "      <td>96453.000000</td>\n",
              "      <td>96453.000000</td>\n",
              "      <td>96453.000000</td>\n",
              "      <td>96453.000000</td>\n",
              "      <td>96453.0</td>\n",
              "      <td>96453.000000</td>\n",
              "    </tr>\n",
              "    <tr>\n",
              "      <th>mean</th>\n",
              "      <td>11.932678</td>\n",
              "      <td>10.855029</td>\n",
              "      <td>0.734899</td>\n",
              "      <td>10.810640</td>\n",
              "      <td>187.509232</td>\n",
              "      <td>10.347325</td>\n",
              "      <td>0.0</td>\n",
              "      <td>1003.235956</td>\n",
              "    </tr>\n",
              "    <tr>\n",
              "      <th>std</th>\n",
              "      <td>9.551546</td>\n",
              "      <td>10.696847</td>\n",
              "      <td>0.195473</td>\n",
              "      <td>6.913571</td>\n",
              "      <td>107.383428</td>\n",
              "      <td>4.192123</td>\n",
              "      <td>0.0</td>\n",
              "      <td>116.969906</td>\n",
              "    </tr>\n",
              "    <tr>\n",
              "      <th>min</th>\n",
              "      <td>-21.822222</td>\n",
              "      <td>-27.716667</td>\n",
              "      <td>0.000000</td>\n",
              "      <td>0.000000</td>\n",
              "      <td>0.000000</td>\n",
              "      <td>0.000000</td>\n",
              "      <td>0.0</td>\n",
              "      <td>0.000000</td>\n",
              "    </tr>\n",
              "    <tr>\n",
              "      <th>25%</th>\n",
              "      <td>4.688889</td>\n",
              "      <td>2.311111</td>\n",
              "      <td>0.600000</td>\n",
              "      <td>5.828200</td>\n",
              "      <td>116.000000</td>\n",
              "      <td>8.339800</td>\n",
              "      <td>0.0</td>\n",
              "      <td>1011.900000</td>\n",
              "    </tr>\n",
              "    <tr>\n",
              "      <th>50%</th>\n",
              "      <td>12.000000</td>\n",
              "      <td>12.000000</td>\n",
              "      <td>0.780000</td>\n",
              "      <td>9.965900</td>\n",
              "      <td>180.000000</td>\n",
              "      <td>10.046400</td>\n",
              "      <td>0.0</td>\n",
              "      <td>1016.450000</td>\n",
              "    </tr>\n",
              "    <tr>\n",
              "      <th>75%</th>\n",
              "      <td>18.838889</td>\n",
              "      <td>18.838889</td>\n",
              "      <td>0.890000</td>\n",
              "      <td>14.135800</td>\n",
              "      <td>290.000000</td>\n",
              "      <td>14.812000</td>\n",
              "      <td>0.0</td>\n",
              "      <td>1021.090000</td>\n",
              "    </tr>\n",
              "    <tr>\n",
              "      <th>max</th>\n",
              "      <td>39.905556</td>\n",
              "      <td>39.344444</td>\n",
              "      <td>1.000000</td>\n",
              "      <td>63.852600</td>\n",
              "      <td>359.000000</td>\n",
              "      <td>16.100000</td>\n",
              "      <td>0.0</td>\n",
              "      <td>1046.380000</td>\n",
              "    </tr>\n",
              "  </tbody>\n",
              "</table>\n",
              "</div>"
            ],
            "text/plain": [
              "       Temperature (C)  ...  Pressure (millibars)\n",
              "count     96453.000000  ...          96453.000000\n",
              "mean         11.932678  ...           1003.235956\n",
              "std           9.551546  ...            116.969906\n",
              "min         -21.822222  ...              0.000000\n",
              "25%           4.688889  ...           1011.900000\n",
              "50%          12.000000  ...           1016.450000\n",
              "75%          18.838889  ...           1021.090000\n",
              "max          39.905556  ...           1046.380000\n",
              "\n",
              "[8 rows x 8 columns]"
            ]
          },
          "metadata": {},
          "execution_count": 32
        }
      ]
    },
    {
      "cell_type": "code",
      "metadata": {
        "colab": {
          "base_uri": "https://localhost:8080/"
        },
        "id": "t949Uc8_rbpg",
        "outputId": "6ba80547-3b37-49f4-e3da-a1048a81a4a6"
      },
      "source": [
        "df.isna().sum()             # Returns the sum of rows that contains null values for each column"
      ],
      "execution_count": 33,
      "outputs": [
        {
          "output_type": "execute_result",
          "data": {
            "text/plain": [
              "Formatted Date                0\n",
              "Summary                       0\n",
              "Precip Type                 517\n",
              "Temperature (C)               0\n",
              "Apparent Temperature (C)      0\n",
              "Humidity                      0\n",
              "Wind Speed (km/h)             0\n",
              "Wind Bearing (degrees)        0\n",
              "Visibility (km)               0\n",
              "Loud Cover                    0\n",
              "Pressure (millibars)          0\n",
              "Daily Summary                 0\n",
              "dtype: int64"
            ]
          },
          "metadata": {},
          "execution_count": 33
        }
      ]
    },
    {
      "cell_type": "code",
      "metadata": {
        "id": "yQzTDMVCq-xu"
      },
      "source": [
        "# Dropping the 'Loud Cover' Column as it contains all rows with value '0'.\n",
        "# It will not add any value to the model\n",
        "\n",
        "df.drop('Loud Cover', axis=1, inplace=True)"
      ],
      "execution_count": 34,
      "outputs": []
    },
    {
      "cell_type": "code",
      "metadata": {
        "colab": {
          "base_uri": "https://localhost:8080/"
        },
        "id": "cXtKk38tjxj2",
        "outputId": "67db1c34-b1f7-4c98-8ff9-650dbbc06f6e"
      },
      "source": [
        "df['Formatted Date'] = pd.to_datetime(df['Formatted Date'], utc=True)\n",
        "\n",
        "df['Formatted Date'].dtype"
      ],
      "execution_count": 35,
      "outputs": [
        {
          "output_type": "execute_result",
          "data": {
            "text/plain": [
              "datetime64[ns, UTC]"
            ]
          },
          "metadata": {},
          "execution_count": 35
        }
      ]
    },
    {
      "cell_type": "markdown",
      "metadata": {
        "id": "TVTqWptx8RnJ"
      },
      "source": [
        "We will predict Summary, Temperature and Precip Type features for our project.\n",
        "\n",
        "*   Summary is Categorical variable; so it would require classification algorithms.\n",
        "*   Temperature is a quantitative variable; hence we would use multiple regression.\n",
        "*   Precip Type is also a categorical variable; so we will use classification algorithm\n",
        "\n",
        "\n",
        "\n",
        "\n",
        "\n",
        "\n",
        "\n"
      ]
    },
    {
      "cell_type": "code",
      "metadata": {
        "colab": {
          "base_uri": "https://localhost:8080/"
        },
        "id": "qLniUBYi6yKS",
        "outputId": "57220fa2-538a-4076-92c0-7dfdab45e03d"
      },
      "source": [
        "# To begin with, we will check the number of different categories in Summary feature\n",
        "\n",
        "df['Summary'].nunique()"
      ],
      "execution_count": 36,
      "outputs": [
        {
          "output_type": "execute_result",
          "data": {
            "text/plain": [
              "27"
            ]
          },
          "metadata": {},
          "execution_count": 36
        }
      ]
    },
    {
      "cell_type": "code",
      "metadata": {
        "colab": {
          "base_uri": "https://localhost:8080/"
        },
        "id": "DjSTB3q461lZ",
        "outputId": "d17432ba-7046-401b-a23c-f0dd6d4a7735"
      },
      "source": [
        "#  Since, we get 27 categories, lets first check the occurence of each of the categories; \n",
        "#  to if there are categories who have least occurence (they may be outliers/noise) '''\n",
        "\n",
        "df['Summary'].value_counts()"
      ],
      "execution_count": 37,
      "outputs": [
        {
          "output_type": "execute_result",
          "data": {
            "text/plain": [
              "Partly Cloudy                          31733\n",
              "Mostly Cloudy                          28094\n",
              "Overcast                               16597\n",
              "Clear                                  10890\n",
              "Foggy                                   7148\n",
              "Breezy and Overcast                      528\n",
              "Breezy and Mostly Cloudy                 516\n",
              "Breezy and Partly Cloudy                 386\n",
              "Dry and Partly Cloudy                     86\n",
              "Windy and Partly Cloudy                   67\n",
              "Light Rain                                63\n",
              "Breezy                                    54\n",
              "Windy and Overcast                        45\n",
              "Humid and Mostly Cloudy                   40\n",
              "Drizzle                                   39\n",
              "Windy and Mostly Cloudy                   35\n",
              "Breezy and Foggy                          35\n",
              "Dry                                       34\n",
              "Humid and Partly Cloudy                   17\n",
              "Dry and Mostly Cloudy                     14\n",
              "Rain                                      10\n",
              "Windy                                      8\n",
              "Humid and Overcast                         7\n",
              "Windy and Foggy                            4\n",
              "Breezy and Dry                             1\n",
              "Windy and Dry                              1\n",
              "Dangerously Windy and Partly Cloudy        1\n",
              "Name: Summary, dtype: int64"
            ]
          },
          "metadata": {},
          "execution_count": 37
        }
      ]
    },
    {
      "cell_type": "code",
      "metadata": {
        "colab": {
          "base_uri": "https://localhost:8080/"
        },
        "id": "iSupOf7y64rT",
        "outputId": "ef59a451-39ec-42c8-c3cc-296c6ca7b3b1"
      },
      "source": [
        "df['Precip Type'].nunique()"
      ],
      "execution_count": 38,
      "outputs": [
        {
          "output_type": "execute_result",
          "data": {
            "text/plain": [
              "2"
            ]
          },
          "metadata": {},
          "execution_count": 38
        }
      ]
    },
    {
      "cell_type": "code",
      "metadata": {
        "colab": {
          "base_uri": "https://localhost:8080/",
          "height": 404
        },
        "id": "KoxGtO346_QF",
        "outputId": "14b85c0e-d05e-41b9-ec47-d6e6b1f5c1ad"
      },
      "source": [
        "plt.figure(figsize=(8,6))\n",
        "precip = sns.countplot(x=df['Precip Type'])\n",
        "plt.title('Graph of occurence of values of Precip Type')\n",
        "\n",
        "for p in precip.patches:\n",
        "  txt = str(round(p.get_height()/df.shape[0]*100, 2)) + '%'\n",
        "  txt_x = p.get_x() + p.get_width()/2 -0.07\n",
        "  txt_y = p.get_height()+400\n",
        "  precip.text(txt_x, txt_y, txt, size=12)\n",
        "\n",
        "plt.show()"
      ],
      "execution_count": 39,
      "outputs": [
        {
          "output_type": "display_data",
          "data": {
            "image/png": "[encoded data removed]",
            "text/plain": [
              "<Figure size 576x432 with 1 Axes>"
            ]
          },
          "metadata": {
            "needs_background": "light"
          }
        }
      ]
    },
    {
      "cell_type": "markdown",
      "metadata": {
        "id": "hjj9GeUuAZc0"
      },
      "source": [
        "# **Data Preprocessing**"
      ]
    },
    {
      "cell_type": "markdown",
      "metadata": {
        "id": "_CKKTLz2At6u"
      },
      "source": [
        "First we will perform preprocess the main response variable-'Summary' Feature."
      ]
    },
    {
      "cell_type": "markdown",
      "metadata": {
        "id": "Y1FF5oyyApng"
      },
      "source": [
        "**Summary Feature**"
      ]
    },
    {
      "cell_type": "code",
      "metadata": {
        "id": "ShuHRIZZ7Cot",
        "colab": {
          "base_uri": "https://localhost:8080/",
          "height": 636
        },
        "outputId": "1c17091e-0e6e-4477-e9de-be91a8cef95d"
      },
      "source": [
        "plt.figure(figsize=(14,7))\n",
        "\n",
        "df['Summary'].value_counts().plot(kind='bar')\n",
        "\n",
        "plt.ylabel('Count')\n",
        "plt.xlabel('Weather Summary')\n",
        "plt.title('Visualization of Weather Summary Feature')\n",
        "plt.xticks(rotation=80)\n",
        "plt.show()"
      ],
      "execution_count": 40,
      "outputs": [
        {
          "output_type": "display_data",
          "data": {
            "image/png": "[encoded data removed]",
            "text/plain": [
              "<Figure size 1008x504 with 1 Axes>"
            ]
          },
          "metadata": {
            "needs_background": "light"
          }
        }
      ]
    },
    {
      "cell_type": "markdown",
      "metadata": {
        "id": "zDTk1UZrBNgU"
      },
      "source": [
        "By the above visualization plot, we can infer that most of the data lies in the first five categories of Weather Summary Feature. The other categories have infinitesimal occurences. Since, this is a qualitative feature, we must clean this rare occuring categories from out dataset"
      ]
    },
    {
      "cell_type": "code",
      "metadata": {
        "colab": {
          "base_uri": "https://localhost:8080/"
        },
        "id": "724KAe5ABOYP",
        "outputId": "741cb495-770e-44da-ad9f-6f1fbd71c3b0"
      },
      "source": [
        "# We will first estimate their percentage of occurence within the dataset.\n",
        "\n",
        "# The below code uses \"Boolean Masking\" technique of python.\n",
        "# Here, we will not consider the rows have ['Partly Cloudy', 'Mostly Cloudy', 'Overcast', 'Foggy' and 'Clear']\n",
        "df[(df['Summary']!='Partly Cloudy') & (df['Summary']!='Mostly Cloudy') &\n",
        "     (df['Summary']!='Overcast') & (df['Summary']!='Foggy') & (df['Summary']!='Clear')].shape[0]/df.shape[0]*100"
      ],
      "execution_count": 41,
      "outputs": [
        {
          "output_type": "execute_result",
          "data": {
            "text/plain": [
              "2.0642178055633313"
            ]
          },
          "metadata": {},
          "execution_count": 41
        }
      ]
    },
    {
      "cell_type": "markdown",
      "metadata": {
        "id": "Okm06icyEJfS"
      },
      "source": [
        "Only 2% of our data not lies in the top five categories of Summary Feature. \n",
        "\n",
        "But, instead of dropping them all, we observe that there are categories which are intersection between two weather summary. Like, 'Breezy and Partly Cloudy' is the data recorded when weather was both Breezy and Partly Cloudy. Instead of dropping this observations (rows), we will add their occurence to 'Partly Cloudy'\n",
        "\n",
        "Similarly, with other categories as well."
      ]
    },
    {
      "cell_type": "code",
      "metadata": {
        "id": "GakxXjrJllQw"
      },
      "source": [
        "# storing the index for unclean data for preprocessing\n",
        "uncleanData_index = df[(df['Summary']!='Partly Cloudy') & (df['Summary']!='Mostly Cloudy') &\n",
        "     (df['Summary']!='Overcast') & (df['Summary']!='Foggy') & (df['Summary']!='Clear')].index"
      ],
      "execution_count": 42,
      "outputs": []
    },
    {
      "cell_type": "code",
      "metadata": {
        "id": "MyS9XjaOBWhD"
      },
      "source": [
        "pd.options.mode.chained_assignment = None\n",
        "\n",
        "# Creating a copy of dataset\n",
        "df_preprocessed = df.copy()\n",
        "\n",
        "# Iterating through the unclean_data index\n",
        "for row in uncleanData_index:\n",
        "\n",
        "      # Using string matching technique\n",
        "      if 'Partly Cloudy' in df_preprocessed['Summary'][row]:\n",
        "          df_preprocessed['Summary'][row] = 'Partly Cloudy'\n",
        "          \n",
        "      elif 'Mostly Cloudy' in df_preprocessed['Summary'][row]:\n",
        "          df_preprocessed['Summary'][row] = 'Mostly Cloudy'\n",
        "          \n",
        "      elif 'Overcast' in df_preprocessed['Summary'][row]:\n",
        "          df_preprocessed['Summary'][row] = 'Overcast'\n",
        "      \n",
        "      elif 'Foggy' in df_preprocessed['Summary'][row]:\n",
        "          df_preprocessed['Summary'][row] = 'Foggy'"
      ],
      "execution_count": 43,
      "outputs": []
    },
    {
      "cell_type": "code",
      "metadata": {
        "colab": {
          "base_uri": "https://localhost:8080/"
        },
        "id": "WSfb45KcBw4H",
        "outputId": "13040b0b-0158-4277-e6b8-8ed62767350c"
      },
      "source": [
        "# We check that preprocessed data has retained all the rows of the original dataset \n",
        "\n",
        "df_preprocessed.shape"
      ],
      "execution_count": 44,
      "outputs": [
        {
          "output_type": "execute_result",
          "data": {
            "text/plain": [
              "(96453, 11)"
            ]
          },
          "metadata": {},
          "execution_count": 44
        }
      ]
    },
    {
      "cell_type": "code",
      "metadata": {
        "colab": {
          "base_uri": "https://localhost:8080/"
        },
        "id": "xT-3Ope6cMUt",
        "outputId": "a8557e49-0d8f-41c4-f585-61f16da5521f"
      },
      "source": [
        "df_preprocessed['Summary'].nunique()"
      ],
      "execution_count": 45,
      "outputs": [
        {
          "output_type": "execute_result",
          "data": {
            "text/plain": [
              "13"
            ]
          },
          "metadata": {},
          "execution_count": 45
        }
      ]
    },
    {
      "cell_type": "code",
      "metadata": {
        "colab": {
          "base_uri": "https://localhost:8080/"
        },
        "id": "R4SYavZdl8Xk",
        "outputId": "8049fc73-1a08-49c7-df8f-406c9c041eaf"
      },
      "source": [
        "df_preprocessed['Summary'].value_counts()"
      ],
      "execution_count": 46,
      "outputs": [
        {
          "output_type": "execute_result",
          "data": {
            "text/plain": [
              "Partly Cloudy     32290\n",
              "Mostly Cloudy     28699\n",
              "Overcast          17177\n",
              "Clear             10890\n",
              "Foggy              7187\n",
              "Light Rain           63\n",
              "Breezy               54\n",
              "Drizzle              39\n",
              "Dry                  34\n",
              "Rain                 10\n",
              "Windy                 8\n",
              "Windy and Dry         1\n",
              "Breezy and Dry        1\n",
              "Name: Summary, dtype: int64"
            ]
          },
          "metadata": {},
          "execution_count": 46
        }
      ]
    },
    {
      "cell_type": "code",
      "metadata": {
        "id": "4Vo_9JF6mbrL"
      },
      "source": [
        "uncleanData_index = df_preprocessed[(df_preprocessed['Summary']!='Partly Cloudy') & (df_preprocessed['Summary']!='Mostly Cloudy') &\n",
        "     (df_preprocessed['Summary']!='Overcast') & (df_preprocessed['Summary']!='Foggy') & (df_preprocessed['Summary']!='Clear')].index"
      ],
      "execution_count": 47,
      "outputs": []
    },
    {
      "cell_type": "code",
      "metadata": {
        "colab": {
          "base_uri": "https://localhost:8080/"
        },
        "id": "FVotBUm9mBZ6",
        "outputId": "7b6d7abf-2393-4e5e-8e20-574f52c7a106"
      },
      "source": [
        "uncleanData_index.shape[0]/df.shape[0]*100"
      ],
      "execution_count": 48,
      "outputs": [
        {
          "output_type": "execute_result",
          "data": {
            "text/plain": [
              "0.21772262138036141"
            ]
          },
          "metadata": {},
          "execution_count": 48
        }
      ]
    },
    {
      "cell_type": "code",
      "metadata": {
        "id": "Dg9fBdddmMDj"
      },
      "source": [
        "df_preprocessed.drop(index=uncleanData_index, inplace=True)"
      ],
      "execution_count": 49,
      "outputs": []
    },
    {
      "cell_type": "code",
      "metadata": {
        "colab": {
          "base_uri": "https://localhost:8080/",
          "height": 513
        },
        "id": "4Cb9tCmIm3Cl",
        "outputId": "bdf098f4-d4e1-42a9-eaec-662ad9e4ff4f"
      },
      "source": [
        "plt.figure(figsize=(14,8))\n",
        "\n",
        "df_preprocessed['Summary'].value_counts().plot(kind='bar')\n",
        "\n",
        "plt.ylabel('Count')\n",
        "plt.xlabel('Weather Summary')\n",
        "plt.title('Summary Feature after Preprocessing')\n",
        "plt.xticks(rotation=0)\n",
        "plt.show()"
      ],
      "execution_count": 50,
      "outputs": [
        {
          "output_type": "display_data",
          "data": {
            "image/png": "[encoded data removed]",
            "text/plain": [
              "<Figure size 1008x576 with 1 Axes>"
            ]
          },
          "metadata": {
            "needs_background": "light"
          }
        }
      ]
    },
    {
      "cell_type": "markdown",
      "metadata": {
        "id": "7XcfNaZNkFrL"
      },
      "source": [
        "**Studying Coorelation between Features**"
      ]
    },
    {
      "cell_type": "code",
      "metadata": {
        "colab": {
          "base_uri": "https://localhost:8080/",
          "height": 361
        },
        "id": "iPAkX9SbkMCV",
        "outputId": "88f42d8d-4b5a-4ced-b500-d068bc7a93f8"
      },
      "source": [
        "plt.figure(figsize=(12,6))\n",
        "sns.heatmap(data=df_preprocessed.corr(), annot=True, fmt='.2f', cmap='Blues', xticklabels=False)\n",
        "plt.show()"
      ],
      "execution_count": 51,
      "outputs": [
        {
          "output_type": "display_data",
          "data": {
            "image/png": "[encoded data removed]",
            "text/plain": [
              "<Figure size 864x432 with 2 Axes>"
            ]
          },
          "metadata": {
            "needs_background": "light"
          }
        }
      ]
    },
    {
      "cell_type": "markdown",
      "metadata": {
        "id": "XYxj1soukeMR"
      },
      "source": [
        "Temperature has very strong positive correlation with 'Apparent Temprature'<br />&emsp;&emsp;&emsp;&emsp;&emsp;&emsp;&emsp;\n",
        "                moderate negative correlation with 'Humidity'<br />&emsp;&emsp;&emsp;&emsp;&emsp;&emsp;&emsp;\n",
        "                moderate positive correaltion with 'Visibility'<br />&emsp;&emsp;&emsp;&emsp;&emsp;&emsp;&emsp;\n",
        "                no correlation with 'Wind Speed', 'Wind Bearing' and 'Pressure'"
      ]
    },
    {
      "cell_type": "code",
      "metadata": {
        "id": "DcetJ70ZkfmS"
      },
      "source": [
        "from sklearn.preprocessing import LabelEncoder\n",
        "\n",
        "x = df_preprocessed.iloc[:, [2,3,5,8]]\n",
        "y = df_preprocessed.iloc[:, [1]]"
      ],
      "execution_count": 53,
      "outputs": []
    },
    {
      "cell_type": "code",
      "metadata": {
        "id": "Pn5bVGXwnq7L",
        "outputId": "1e130f4a-be24-4067-bb5c-892d3be36980",
        "colab": {
          "base_uri": "https://localhost:8080/"
        }
      },
      "source": [
        "x['Precip Type'] = x['Precip Type'].fillna(method='bfill')\n",
        "\n",
        "x.isna().sum()"
      ],
      "execution_count": 54,
      "outputs": [
        {
          "output_type": "execute_result",
          "data": {
            "text/plain": [
              "Precip Type        0\n",
              "Temperature (C)    0\n",
              "Humidity           0\n",
              "Visibility (km)    0\n",
              "dtype: int64"
            ]
          },
          "metadata": {},
          "execution_count": 54
        }
      ]
    },
    {
      "cell_type": "code",
      "metadata": {
        "id": "ImCuKp5On1xO"
      },
      "source": [
        "le = LabelEncoder()\n",
        "\n",
        "x.iloc[:, 0] = le.fit_transform(x.iloc[:,  0])\n",
        "\n",
        "y.iloc[:, 0] = le.fit_transform(y.iloc[:, 0])"
      ],
      "execution_count": 55,
      "outputs": []
    }
  ]
}